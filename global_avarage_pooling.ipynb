{
 "cells": [
  {
   "cell_type": "code",
   "execution_count": 1,
   "metadata": {},
   "outputs": [],
   "source": [
    "import tensorflow as tf\n",
    "from tensorflow import keras\n",
    "from tensorflow.keras import layers\n",
    "from keras.optimizers import Adam\n",
    "from cv2 import cv2\n",
    "import numpy as np\n",
    "import pandas as pd\n",
    "import matplotlib.pyplot as plt\n",
    "import imutils\n",
    "from imutils.contours import sort_contours\n",
    "from sklearn.metrics import classification_report, confusion_matrix"
   ]
  },
  {
   "cell_type": "code",
   "execution_count": 2,
   "metadata": {},
   "outputs": [],
   "source": [
    "#hyperparameters\n",
    "batch_size = 64\n",
    "learning_rate = 1e-3\n",
    "img_height = 32\n",
    "img_width = 32"
   ]
  },
  {
   "cell_type": "code",
   "execution_count": 3,
   "metadata": {},
   "outputs": [
    {
     "output_type": "stream",
     "name": "stdout",
     "text": [
      "Found 7705 files belonging to 62 classes.\n",
      "Using 6164 files for training.\n",
      "Found 7705 files belonging to 62 classes.\n",
      "Using 1541 files for validation.\n"
     ]
    }
   ],
   "source": [
    "# load and iterate training dataset\n",
    "trainData = keras.preprocessing.image_dataset_from_directory(\n",
    "    directory= './data/Chars74k/GoodImag',\n",
    "    labels= 'inferred',\n",
    "    label_mode= 'categorical',\n",
    "    batch_size= batch_size,\n",
    "    image_size= (img_height, img_width),\n",
    "    color_mode='grayscale',\n",
    "    validation_split= 0.2,\n",
    "    subset= 'training',\n",
    "    seed=123,\n",
    "    )\n",
    "\n",
    "testData = tf.keras.preprocessing.image_dataset_from_directory(\n",
    "    directory= './data/Chars74k/GoodImag',\n",
    "    labels= 'inferred',\n",
    "    label_mode= 'categorical',\n",
    "    batch_size= batch_size,\n",
    "    image_size= (img_height, img_width),\n",
    "    color_mode='grayscale',\n",
    "    validation_split= 0.2,\n",
    "    subset= 'validation',\n",
    "    seed=123\n",
    "    )"
   ]
  },
  {
   "cell_type": "code",
   "execution_count": 4,
   "metadata": {},
   "outputs": [
    {
     "output_type": "stream",
     "name": "stdout",
     "text": [
      "Data set's class names: \n",
      " ['0', '1', '2', '3', '4', '5', '6', '7', '8', '9', 'A', 'B', 'C', 'D', 'E', 'F', 'G', 'H', 'I', 'J', 'K', 'L', 'M', 'N', 'O', 'P', 'Q', 'R', 'S', 'T', 'U', 'V', 'W', 'X', 'Y', 'Z', 'a', 'b', 'c', 'd', 'e', 'f', 'g', 'h', 'i', 'j', 'k', 'l', 'm', 'n', 'o', 'p', 'q', 'r', 's', 't', 'u', 'v', 'w', 'x', 'y', 'z']\n",
      "Class count: 62\n",
      "image_batch.shape >> (64, 32, 32, 1)\n",
      "image_labels.shape >> (64, 62)\n"
     ]
    }
   ],
   "source": [
    "class_names = trainData.class_names\n",
    "class_names =  ['0', '1', '2', '3', '4', '5', '6', '7', '8', '9', 'A', 'B', 'C', 'D', 'E', 'F', 'G', 'H', 'I', 'J', 'K', 'L', 'M', 'N', 'O', 'P', 'Q', 'R', 'S', 'T', 'U', 'V', 'W', 'X', 'Y', 'Z', 'a', 'b', 'c', 'd', 'e', 'f', 'g', 'h', 'i', 'j', 'k', 'l', 'm', 'n', 'o', 'p', 'q', 'r', 's', 't', 'u', 'v', 'w', 'x', 'y', 'z']\n",
    "print(f\"Data set's class names: \\n {class_names}\")\n",
    "num_class = len(class_names)\n",
    "print(f\"Class count: {num_class}\")\n",
    "\n",
    "for image_batch, labels_batch in trainData:\n",
    "  print(\"image_batch.shape >>\",image_batch.shape)\n",
    "  print(\"image_labels.shape >>\",labels_batch.shape)\n",
    "  break"
   ]
  },
  {
   "cell_type": "code",
   "execution_count": 5,
   "metadata": {},
   "outputs": [
    {
     "output_type": "stream",
     "name": "stdout",
     "text": [
      "0.18103172 0.7724725\n"
     ]
    }
   ],
   "source": [
    "normalization_layer = tf.keras.layers.experimental.preprocessing.Rescaling(1./255)\n",
    "\n",
    "trainData = trainData.map(lambda x, y: (normalization_layer(x), y))\n",
    "image_batch, labels_batch = next(iter(trainData))\n",
    "# Notice the pixels values are now in `[0,1]`.\n",
    "\n",
    "\n",
    "testData = testData.map(lambda x, y: (normalization_layer(x), y))\n",
    "image_batch, labels_batch = next(iter(testData))\n",
    "\n",
    "first_image = image_batch[0]\n",
    "# Notice the pixels values are now in `[0,1]`.\n",
    "print(np.min(first_image), np.max(first_image))\n"
   ]
  },
  {
   "cell_type": "code",
   "execution_count": 6,
   "metadata": {},
   "outputs": [],
   "source": [
    "AUTOTUNE = tf.data.experimental.AUTOTUNE\n",
    "\n",
    "trainData = trainData.cache().prefetch(buffer_size=AUTOTUNE)\n",
    "testData = testData.cache().prefetch(buffer_size=AUTOTUNE)"
   ]
  },
  {
   "cell_type": "code",
   "execution_count": 7,
   "metadata": {},
   "outputs": [],
   "source": [
    "model = tf.keras.Sequential([\n",
    "    layers.Conv2D(64, (7,7), use_bias=False, input_shape=(img_width,img_height,1)),\n",
    "    layers.BatchNormalization(),\n",
    "    layers.Activation('relu'),\n",
    "    layers.MaxPooling2D(pool_size=(3,3),padding='same'),\n",
    "    layers.Conv2D(128, (3,3), use_bias=False),\n",
    "    layers.BatchNormalization(),\n",
    "    layers.Activation('relu'),\n",
    "    layers.MaxPooling2D(padding='same'),    \n",
    "    layers.GlobalAveragePooling2D(),\n",
    "    #layers.Dense(128, activation='relu'),\n",
    "    #layers.Dropout(0.5),\n",
    "    #layers.Dense(256, activation='relu'),\n",
    "    #layers.Flatten(),\n",
    "    layers.Dense(num_class, activation='softmax')\n",
    "])"
   ]
  },
  {
   "cell_type": "code",
   "execution_count": 8,
   "metadata": {},
   "outputs": [],
   "source": [
    "callback = tf.keras.callbacks.EarlyStopping(\n",
    "    monitor='val_loss',\n",
    "    patience=600,\n",
    "    restore_best_weights=True\n",
    "    )\n",
    "\n",
    "model.compile(\n",
    "  optimizer= Adam(learning_rate=learning_rate),\n",
    "  loss='categorical_crossentropy',\n",
    "  metrics=['accuracy']\n",
    "  )"
   ]
  },
  {
   "cell_type": "code",
   "execution_count": 9,
   "metadata": {
    "tags": [
     "outputPrepend"
    ]
   },
   "outputs": [
    {
     "output_type": "stream",
     "name": "stdout",
     "text": [
      ": 0.0081 - accuracy: 0.9991 - val_loss: 1.5936 - val_accuracy: 0.7618\n",
      "Epoch 462/600\n",
      "97/97 [==============================] - 1s 9ms/step - loss: 0.0079 - accuracy: 0.9986 - val_loss: 1.5930 - val_accuracy: 0.7547\n",
      "Epoch 463/600\n",
      "97/97 [==============================] - 1s 9ms/step - loss: 0.0085 - accuracy: 0.9980 - val_loss: 1.6309 - val_accuracy: 0.7586\n",
      "Epoch 464/600\n",
      "97/97 [==============================] - 1s 9ms/step - loss: 0.0085 - accuracy: 0.9983 - val_loss: 1.6577 - val_accuracy: 0.7586\n",
      "Epoch 465/600\n",
      "97/97 [==============================] - 1s 9ms/step - loss: 0.0093 - accuracy: 0.9983 - val_loss: 1.7019 - val_accuracy: 0.7430\n",
      "Epoch 466/600\n",
      "97/97 [==============================] - 1s 9ms/step - loss: 0.0088 - accuracy: 0.9974 - val_loss: 1.6864 - val_accuracy: 0.7411\n",
      "Epoch 467/600\n",
      "97/97 [==============================] - 1s 9ms/step - loss: 0.0082 - accuracy: 0.9983 - val_loss: 1.6871 - val_accuracy: 0.7495\n",
      "Epoch 468/600\n",
      "97/97 [==============================] - 1s 9ms/step - loss: 0.0087 - accuracy: 0.9979 - val_loss: 1.7040 - val_accuracy: 0.7599\n",
      "Epoch 469/600\n",
      "97/97 [==============================] - 1s 9ms/step - loss: 0.0078 - accuracy: 0.9988 - val_loss: 1.6812 - val_accuracy: 0.7554\n",
      "Epoch 470/600\n",
      "97/97 [==============================] - 1s 9ms/step - loss: 0.0090 - accuracy: 0.9977 - val_loss: 1.7106 - val_accuracy: 0.7508\n",
      "Epoch 471/600\n",
      "97/97 [==============================] - 1s 9ms/step - loss: 0.0083 - accuracy: 0.9983 - val_loss: 1.8038 - val_accuracy: 0.7365\n",
      "Epoch 472/600\n",
      "97/97 [==============================] - 1s 9ms/step - loss: 0.0103 - accuracy: 0.9961 - val_loss: 1.8457 - val_accuracy: 0.7502\n",
      "Epoch 473/600\n",
      "97/97 [==============================] - 1s 10ms/step - loss: 0.0124 - accuracy: 0.9972 - val_loss: 1.6542 - val_accuracy: 0.7489\n",
      "Epoch 474/600\n",
      "97/97 [==============================] - 1s 9ms/step - loss: 0.0080 - accuracy: 0.9990 - val_loss: 1.9618 - val_accuracy: 0.7216\n",
      "Epoch 475/600\n",
      "97/97 [==============================] - 1s 9ms/step - loss: 0.0504 - accuracy: 0.9852 - val_loss: 5.5174 - val_accuracy: 0.4789\n",
      "Epoch 476/600\n",
      "97/97 [==============================] - 1s 9ms/step - loss: 0.1760 - accuracy: 0.9438 - val_loss: 3.2011 - val_accuracy: 0.6275\n",
      "Epoch 477/600\n",
      "97/97 [==============================] - 1s 9ms/step - loss: 0.0541 - accuracy: 0.9853 - val_loss: 1.9330 - val_accuracy: 0.7203\n",
      "Epoch 478/600\n",
      "97/97 [==============================] - 1s 9ms/step - loss: 0.0163 - accuracy: 0.9978 - val_loss: 1.5721 - val_accuracy: 0.7683\n",
      "Epoch 479/600\n",
      "97/97 [==============================] - 1s 9ms/step - loss: 0.0106 - accuracy: 0.9986 - val_loss: 1.5885 - val_accuracy: 0.7696\n",
      "Epoch 480/600\n",
      "97/97 [==============================] - 1s 9ms/step - loss: 0.0093 - accuracy: 0.9977 - val_loss: 1.5956 - val_accuracy: 0.7696\n",
      "Epoch 481/600\n",
      "97/97 [==============================] - 1s 9ms/step - loss: 0.0077 - accuracy: 0.9990 - val_loss: 1.5747 - val_accuracy: 0.7612\n",
      "Epoch 482/600\n",
      "97/97 [==============================] - 1s 9ms/step - loss: 0.0079 - accuracy: 0.9983 - val_loss: 1.5752 - val_accuracy: 0.7638\n",
      "Epoch 483/600\n",
      "97/97 [==============================] - 1s 9ms/step - loss: 0.0077 - accuracy: 0.9986 - val_loss: 1.5994 - val_accuracy: 0.7631\n",
      "Epoch 484/600\n",
      "97/97 [==============================] - 1s 9ms/step - loss: 0.0077 - accuracy: 0.9984 - val_loss: 1.6303 - val_accuracy: 0.7651\n",
      "Epoch 485/600\n",
      "97/97 [==============================] - 1s 9ms/step - loss: 0.0077 - accuracy: 0.9985 - val_loss: 1.6330 - val_accuracy: 0.7599\n",
      "Epoch 486/600\n",
      "97/97 [==============================] - 1s 9ms/step - loss: 0.0071 - accuracy: 0.9987 - val_loss: 1.6349 - val_accuracy: 0.7560\n",
      "Epoch 487/600\n",
      "97/97 [==============================] - 1s 9ms/step - loss: 0.0075 - accuracy: 0.9984 - val_loss: 1.6527 - val_accuracy: 0.7528\n",
      "Epoch 488/600\n",
      "97/97 [==============================] - 1s 9ms/step - loss: 0.0084 - accuracy: 0.9982 - val_loss: 1.6796 - val_accuracy: 0.7547\n",
      "Epoch 489/600\n",
      "97/97 [==============================] - 1s 9ms/step - loss: 0.0079 - accuracy: 0.9983 - val_loss: 1.6349 - val_accuracy: 0.7579\n",
      "Epoch 490/600\n",
      "97/97 [==============================] - 1s 9ms/step - loss: 0.0080 - accuracy: 0.9982 - val_loss: 1.6759 - val_accuracy: 0.7547\n",
      "Epoch 491/600\n",
      "97/97 [==============================] - 1s 9ms/step - loss: 0.0069 - accuracy: 0.9992 - val_loss: 1.6877 - val_accuracy: 0.7482\n",
      "Epoch 492/600\n",
      "97/97 [==============================] - 1s 9ms/step - loss: 0.0087 - accuracy: 0.9976 - val_loss: 1.6931 - val_accuracy: 0.7476\n",
      "Epoch 493/600\n",
      "97/97 [==============================] - 1s 9ms/step - loss: 0.0089 - accuracy: 0.9981 - val_loss: 1.8721 - val_accuracy: 0.7307\n",
      "Epoch 494/600\n",
      "97/97 [==============================] - 1s 9ms/step - loss: 0.0108 - accuracy: 0.9969 - val_loss: 1.7324 - val_accuracy: 0.7456\n",
      "Epoch 495/600\n",
      "97/97 [==============================] - 1s 9ms/step - loss: 0.0078 - accuracy: 0.9989 - val_loss: 1.7631 - val_accuracy: 0.7521\n",
      "Epoch 496/600\n",
      "97/97 [==============================] - 1s 9ms/step - loss: 0.0064 - accuracy: 0.9987 - val_loss: 1.9152 - val_accuracy: 0.7430\n",
      "Epoch 497/600\n",
      "97/97 [==============================] - 1s 11ms/step - loss: 0.0109 - accuracy: 0.9969 - val_loss: 1.7513 - val_accuracy: 0.7547\n",
      "Epoch 498/600\n",
      "97/97 [==============================] - 1s 11ms/step - loss: 0.0084 - accuracy: 0.9979 - val_loss: 1.9361 - val_accuracy: 0.7333\n",
      "Epoch 499/600\n",
      "97/97 [==============================] - 1s 11ms/step - loss: 0.0076 - accuracy: 0.9987 - val_loss: 1.8231 - val_accuracy: 0.7385\n",
      "Epoch 500/600\n",
      "97/97 [==============================] - 1s 11ms/step - loss: 0.0078 - accuracy: 0.9992 - val_loss: 1.7206 - val_accuracy: 0.7599\n",
      "Epoch 501/600\n",
      "97/97 [==============================] - 1s 11ms/step - loss: 0.0127 - accuracy: 0.9960 - val_loss: 3.6046 - val_accuracy: 0.6191\n",
      "Epoch 502/600\n",
      "97/97 [==============================] - 1s 11ms/step - loss: 0.0793 - accuracy: 0.9762 - val_loss: 5.0987 - val_accuracy: 0.4867\n",
      "Epoch 503/600\n",
      "97/97 [==============================] - 1s 10ms/step - loss: 0.2316 - accuracy: 0.9408 - val_loss: 2.9604 - val_accuracy: 0.6470\n",
      "Epoch 504/600\n",
      "97/97 [==============================] - 1s 10ms/step - loss: 0.0625 - accuracy: 0.9855 - val_loss: 2.0066 - val_accuracy: 0.7119\n",
      "Epoch 505/600\n",
      "97/97 [==============================] - 1s 10ms/step - loss: 0.0167 - accuracy: 0.9968 - val_loss: 1.6760 - val_accuracy: 0.7638\n",
      "Epoch 506/600\n",
      "97/97 [==============================] - 1s 9ms/step - loss: 0.0100 - accuracy: 0.9987 - val_loss: 1.6863 - val_accuracy: 0.7677\n",
      "Epoch 507/600\n",
      "97/97 [==============================] - 1s 9ms/step - loss: 0.0076 - accuracy: 0.9990 - val_loss: 1.6558 - val_accuracy: 0.7729\n",
      "Epoch 508/600\n",
      "97/97 [==============================] - 1s 9ms/step - loss: 0.0074 - accuracy: 0.9991 - val_loss: 1.6770 - val_accuracy: 0.7690\n",
      "Epoch 509/600\n",
      "97/97 [==============================] - 1s 9ms/step - loss: 0.0070 - accuracy: 0.9992 - val_loss: 1.6293 - val_accuracy: 0.7729\n",
      "Epoch 510/600\n",
      "97/97 [==============================] - 1s 10ms/step - loss: 0.0068 - accuracy: 0.9987 - val_loss: 1.6280 - val_accuracy: 0.7703\n",
      "Epoch 511/600\n",
      "97/97 [==============================] - 1s 10ms/step - loss: 0.0066 - accuracy: 0.9986 - val_loss: 1.6597 - val_accuracy: 0.7690\n",
      "Epoch 512/600\n",
      "97/97 [==============================] - 1s 9ms/step - loss: 0.0076 - accuracy: 0.9987 - val_loss: 1.6872 - val_accuracy: 0.7560\n",
      "Epoch 513/600\n",
      "97/97 [==============================] - 1s 10ms/step - loss: 0.0067 - accuracy: 0.9990 - val_loss: 1.6552 - val_accuracy: 0.7638\n",
      "Epoch 514/600\n",
      "97/97 [==============================] - 1s 10ms/step - loss: 0.0073 - accuracy: 0.9979 - val_loss: 1.6904 - val_accuracy: 0.7677\n",
      "Epoch 515/600\n",
      "97/97 [==============================] - 1s 10ms/step - loss: 0.0061 - accuracy: 0.9996 - val_loss: 1.6798 - val_accuracy: 0.7612\n",
      "Epoch 516/600\n",
      "97/97 [==============================] - 1s 11ms/step - loss: 0.0071 - accuracy: 0.9987 - val_loss: 1.7157 - val_accuracy: 0.7515\n",
      "Epoch 517/600\n",
      "97/97 [==============================] - 1s 10ms/step - loss: 0.0069 - accuracy: 0.9982 - val_loss: 1.7360 - val_accuracy: 0.7476\n",
      "Epoch 518/600\n",
      "97/97 [==============================] - 1s 9ms/step - loss: 0.0069 - accuracy: 0.9983 - val_loss: 1.7411 - val_accuracy: 0.7579\n",
      "Epoch 519/600\n",
      "97/97 [==============================] - 1s 10ms/step - loss: 0.0080 - accuracy: 0.9989 - val_loss: 1.7153 - val_accuracy: 0.7592\n",
      "Epoch 520/600\n",
      "97/97 [==============================] - 1s 10ms/step - loss: 0.0076 - accuracy: 0.9983 - val_loss: 1.7961 - val_accuracy: 0.7463\n",
      "Epoch 521/600\n",
      "97/97 [==============================] - 1s 10ms/step - loss: 0.0072 - accuracy: 0.9982 - val_loss: 1.7750 - val_accuracy: 0.7508\n",
      "Epoch 522/600\n",
      "97/97 [==============================] - 1s 10ms/step - loss: 0.0071 - accuracy: 0.9987 - val_loss: 2.0139 - val_accuracy: 0.7450\n",
      "Epoch 523/600\n",
      "97/97 [==============================] - 1s 9ms/step - loss: 0.0110 - accuracy: 0.9981 - val_loss: 1.8133 - val_accuracy: 0.7359\n",
      "Epoch 524/600\n",
      "97/97 [==============================] - 1s 10ms/step - loss: 0.0087 - accuracy: 0.9981 - val_loss: 1.7750 - val_accuracy: 0.7482\n",
      "Epoch 525/600\n",
      "97/97 [==============================] - 1s 10ms/step - loss: 0.0196 - accuracy: 0.9952 - val_loss: 6.8451 - val_accuracy: 0.5036\n",
      "Epoch 526/600\n",
      "97/97 [==============================] - 1s 10ms/step - loss: 0.2746 - accuracy: 0.9154 - val_loss: 4.0357 - val_accuracy: 0.5912\n",
      "Epoch 527/600\n",
      "97/97 [==============================] - 1s 9ms/step - loss: 0.0650 - accuracy: 0.9823 - val_loss: 2.3307 - val_accuracy: 0.6970\n",
      "Epoch 528/600\n",
      "97/97 [==============================] - 1s 9ms/step - loss: 0.0192 - accuracy: 0.9961 - val_loss: 1.6789 - val_accuracy: 0.7644\n",
      "Epoch 529/600\n",
      "97/97 [==============================] - 1s 10ms/step - loss: 0.0091 - accuracy: 0.9989 - val_loss: 1.5782 - val_accuracy: 0.7742\n",
      "Epoch 530/600\n",
      "97/97 [==============================] - 1s 11ms/step - loss: 0.0078 - accuracy: 0.9997 - val_loss: 1.6202 - val_accuracy: 0.7703\n",
      "Epoch 531/600\n",
      "97/97 [==============================] - 1s 10ms/step - loss: 0.0069 - accuracy: 0.9993 - val_loss: 1.5959 - val_accuracy: 0.7768\n",
      "Epoch 532/600\n",
      "97/97 [==============================] - 1s 9ms/step - loss: 0.0060 - accuracy: 0.9995 - val_loss: 1.5695 - val_accuracy: 0.7742\n",
      "Epoch 533/600\n",
      "97/97 [==============================] - 1s 10ms/step - loss: 0.0058 - accuracy: 0.9998 - val_loss: 1.5996 - val_accuracy: 0.7696\n",
      "Epoch 534/600\n",
      "97/97 [==============================] - 1s 11ms/step - loss: 0.0059 - accuracy: 0.9997 - val_loss: 1.5758 - val_accuracy: 0.7755\n",
      "Epoch 535/600\n",
      "97/97 [==============================] - 1s 10ms/step - loss: 0.0053 - accuracy: 0.9996 - val_loss: 1.6131 - val_accuracy: 0.7703\n",
      "Epoch 536/600\n",
      "97/97 [==============================] - 1s 10ms/step - loss: 0.0058 - accuracy: 0.9992 - val_loss: 1.6015 - val_accuracy: 0.7644\n",
      "Epoch 537/600\n",
      "97/97 [==============================] - 1s 11ms/step - loss: 0.0051 - accuracy: 0.9998 - val_loss: 1.6369 - val_accuracy: 0.7670\n",
      "Epoch 538/600\n",
      "97/97 [==============================] - 1s 10ms/step - loss: 0.0059 - accuracy: 0.9989 - val_loss: 1.6645 - val_accuracy: 0.7722\n",
      "Epoch 539/600\n",
      "97/97 [==============================] - 1s 10ms/step - loss: 0.0055 - accuracy: 0.9995 - val_loss: 1.6723 - val_accuracy: 0.7599\n",
      "Epoch 540/600\n",
      "97/97 [==============================] - 1s 10ms/step - loss: 0.0073 - accuracy: 0.9981 - val_loss: 1.6819 - val_accuracy: 0.7657\n",
      "Epoch 541/600\n",
      "97/97 [==============================] - 1s 10ms/step - loss: 0.0080 - accuracy: 0.9981 - val_loss: 1.6603 - val_accuracy: 0.7586\n",
      "Epoch 542/600\n",
      "97/97 [==============================] - 1s 9ms/step - loss: 0.0057 - accuracy: 0.9992 - val_loss: 1.6624 - val_accuracy: 0.7651\n",
      "Epoch 543/600\n",
      "97/97 [==============================] - 1s 9ms/step - loss: 0.0050 - accuracy: 0.9994 - val_loss: 1.6860 - val_accuracy: 0.7690\n",
      "Epoch 544/600\n",
      "97/97 [==============================] - 1s 9ms/step - loss: 0.0058 - accuracy: 0.9996 - val_loss: 1.7786 - val_accuracy: 0.7463\n",
      "Epoch 545/600\n",
      "97/97 [==============================] - 1s 10ms/step - loss: 0.0082 - accuracy: 0.9984 - val_loss: 1.7271 - val_accuracy: 0.7573\n",
      "Epoch 546/600\n",
      "97/97 [==============================] - 1s 9ms/step - loss: 0.0060 - accuracy: 0.9992 - val_loss: 1.8063 - val_accuracy: 0.7508\n",
      "Epoch 547/600\n",
      "97/97 [==============================] - 1s 10ms/step - loss: 0.0083 - accuracy: 0.9979 - val_loss: 1.8119 - val_accuracy: 0.7599\n",
      "Epoch 548/600\n",
      "97/97 [==============================] - 1s 9ms/step - loss: 0.0073 - accuracy: 0.9978 - val_loss: 1.7871 - val_accuracy: 0.7417\n",
      "Epoch 549/600\n",
      "97/97 [==============================] - 1s 9ms/step - loss: 0.0067 - accuracy: 0.9987 - val_loss: 1.7432 - val_accuracy: 0.7521\n",
      "Epoch 550/600\n",
      "97/97 [==============================] - 1s 9ms/step - loss: 0.0061 - accuracy: 0.9986 - val_loss: 1.7993 - val_accuracy: 0.7476\n",
      "Epoch 551/600\n",
      "97/97 [==============================] - 1s 10ms/step - loss: 0.0145 - accuracy: 0.9958 - val_loss: 6.1789 - val_accuracy: 0.4886\n",
      "Epoch 552/600\n",
      "97/97 [==============================] - 1s 9ms/step - loss: 0.2259 - accuracy: 0.9340 - val_loss: 3.6505 - val_accuracy: 0.5990\n",
      "Epoch 553/600\n",
      "97/97 [==============================] - 1s 10ms/step - loss: 0.0705 - accuracy: 0.9776 - val_loss: 2.1812 - val_accuracy: 0.7274\n",
      "Epoch 554/600\n",
      "97/97 [==============================] - 1s 9ms/step - loss: 0.0340 - accuracy: 0.9910 - val_loss: 1.7991 - val_accuracy: 0.7469\n",
      "Epoch 555/600\n",
      "97/97 [==============================] - 1s 9ms/step - loss: 0.0103 - accuracy: 0.9990 - val_loss: 1.6729 - val_accuracy: 0.7670\n",
      "Epoch 556/600\n",
      "97/97 [==============================] - 1s 9ms/step - loss: 0.0069 - accuracy: 0.9998 - val_loss: 1.6049 - val_accuracy: 0.7703\n",
      "Epoch 557/600\n",
      "97/97 [==============================] - 1s 10ms/step - loss: 0.0057 - accuracy: 0.9996 - val_loss: 1.6169 - val_accuracy: 0.7735\n",
      "Epoch 558/600\n",
      "97/97 [==============================] - 1s 10ms/step - loss: 0.0057 - accuracy: 0.9996 - val_loss: 1.6081 - val_accuracy: 0.7729\n",
      "Epoch 559/600\n",
      "97/97 [==============================] - 1s 9ms/step - loss: 0.0051 - accuracy: 0.9998 - val_loss: 1.6367 - val_accuracy: 0.7742\n",
      "Epoch 560/600\n",
      "97/97 [==============================] - 1s 9ms/step - loss: 0.0055 - accuracy: 0.9996 - val_loss: 1.6229 - val_accuracy: 0.7748\n",
      "Epoch 561/600\n",
      "97/97 [==============================] - 1s 9ms/step - loss: 0.0048 - accuracy: 0.9997 - val_loss: 1.6308 - val_accuracy: 0.7735\n",
      "Epoch 562/600\n",
      "97/97 [==============================] - 1s 9ms/step - loss: 0.0049 - accuracy: 0.9995 - val_loss: 1.6108 - val_accuracy: 0.7742\n",
      "Epoch 563/600\n",
      "97/97 [==============================] - 1s 9ms/step - loss: 0.0049 - accuracy: 0.9999 - val_loss: 1.6740 - val_accuracy: 0.7677\n",
      "Epoch 564/600\n",
      "97/97 [==============================] - 1s 9ms/step - loss: 0.0048 - accuracy: 0.9995 - val_loss: 1.6251 - val_accuracy: 0.7722\n",
      "Epoch 565/600\n",
      "97/97 [==============================] - 1s 9ms/step - loss: 0.0048 - accuracy: 0.9998 - val_loss: 1.6554 - val_accuracy: 0.7683\n",
      "Epoch 566/600\n",
      "97/97 [==============================] - 1s 9ms/step - loss: 0.0051 - accuracy: 0.9998 - val_loss: 1.6668 - val_accuracy: 0.7748\n",
      "Epoch 567/600\n",
      "97/97 [==============================] - 1s 9ms/step - loss: 0.0052 - accuracy: 0.9994 - val_loss: 1.7497 - val_accuracy: 0.7625\n",
      "Epoch 568/600\n",
      "97/97 [==============================] - 1s 9ms/step - loss: 0.0062 - accuracy: 0.9993 - val_loss: 1.7601 - val_accuracy: 0.7560\n",
      "Epoch 569/600\n",
      "97/97 [==============================] - 1s 9ms/step - loss: 0.0075 - accuracy: 0.9987 - val_loss: 1.8325 - val_accuracy: 0.7573\n",
      "Epoch 570/600\n",
      "97/97 [==============================] - 1s 9ms/step - loss: 0.0060 - accuracy: 0.9991 - val_loss: 1.7027 - val_accuracy: 0.7592\n",
      "Epoch 571/600\n",
      "97/97 [==============================] - 1s 9ms/step - loss: 0.0050 - accuracy: 0.9998 - val_loss: 1.7920 - val_accuracy: 0.7560\n",
      "Epoch 572/600\n",
      "97/97 [==============================] - 1s 10ms/step - loss: 0.0053 - accuracy: 0.9994 - val_loss: 1.7111 - val_accuracy: 0.7631\n",
      "Epoch 573/600\n",
      "97/97 [==============================] - 1s 10ms/step - loss: 0.0053 - accuracy: 0.9998 - val_loss: 1.8163 - val_accuracy: 0.7508\n",
      "Epoch 574/600\n",
      "97/97 [==============================] - 1s 11ms/step - loss: 0.0063 - accuracy: 0.9991 - val_loss: 1.9092 - val_accuracy: 0.7515\n",
      "Epoch 575/600\n",
      "97/97 [==============================] - 1s 9ms/step - loss: 0.0099 - accuracy: 0.9968 - val_loss: 4.4799 - val_accuracy: 0.5354\n",
      "Epoch 576/600\n",
      "97/97 [==============================] - 1s 10ms/step - loss: 0.2156 - accuracy: 0.9368 - val_loss: 4.2694 - val_accuracy: 0.5892\n",
      "Epoch 577/600\n",
      "97/97 [==============================] - 1s 11ms/step - loss: 0.0846 - accuracy: 0.9772 - val_loss: 3.0641 - val_accuracy: 0.6522\n",
      "Epoch 578/600\n",
      "97/97 [==============================] - 1s 10ms/step - loss: 0.0373 - accuracy: 0.9906 - val_loss: 1.7613 - val_accuracy: 0.7456\n",
      "Epoch 579/600\n",
      "97/97 [==============================] - 1s 10ms/step - loss: 0.0087 - accuracy: 0.9992 - val_loss: 1.6572 - val_accuracy: 0.7709\n",
      "Epoch 580/600\n",
      "97/97 [==============================] - 1s 9ms/step - loss: 0.0060 - accuracy: 0.9997 - val_loss: 1.6361 - val_accuracy: 0.7729\n",
      "Epoch 581/600\n",
      "97/97 [==============================] - 1s 9ms/step - loss: 0.0054 - accuracy: 0.9999 - val_loss: 1.6339 - val_accuracy: 0.7716\n",
      "Epoch 582/600\n",
      "97/97 [==============================] - 1s 10ms/step - loss: 0.0050 - accuracy: 0.9997 - val_loss: 1.6349 - val_accuracy: 0.7735\n",
      "Epoch 583/600\n",
      "97/97 [==============================] - 1s 9ms/step - loss: 0.0048 - accuracy: 0.9999 - val_loss: 1.6636 - val_accuracy: 0.7735\n",
      "Epoch 584/600\n",
      "97/97 [==============================] - 1s 10ms/step - loss: 0.0047 - accuracy: 0.9999 - val_loss: 1.6720 - val_accuracy: 0.7729\n",
      "Epoch 585/600\n",
      "97/97 [==============================] - 1s 10ms/step - loss: 0.0047 - accuracy: 0.9999 - val_loss: 1.6482 - val_accuracy: 0.7709\n",
      "Epoch 586/600\n",
      "97/97 [==============================] - 1s 9ms/step - loss: 0.0046 - accuracy: 0.9998 - val_loss: 1.6709 - val_accuracy: 0.7683\n",
      "Epoch 587/600\n",
      "97/97 [==============================] - 1s 9ms/step - loss: 0.0045 - accuracy: 0.9999 - val_loss: 1.6508 - val_accuracy: 0.7722\n",
      "Epoch 588/600\n",
      "97/97 [==============================] - 1s 9ms/step - loss: 0.0045 - accuracy: 0.9999 - val_loss: 1.6828 - val_accuracy: 0.7742\n",
      "Epoch 589/600\n",
      "97/97 [==============================] - 1s 9ms/step - loss: 0.0050 - accuracy: 0.9996 - val_loss: 1.6760 - val_accuracy: 0.7696\n",
      "Epoch 590/600\n",
      "97/97 [==============================] - 1s 9ms/step - loss: 0.0051 - accuracy: 0.9998 - val_loss: 1.6688 - val_accuracy: 0.7696\n",
      "Epoch 591/600\n",
      "97/97 [==============================] - 1s 9ms/step - loss: 0.0044 - accuracy: 0.9999 - val_loss: 1.6471 - val_accuracy: 0.7677\n",
      "Epoch 592/600\n",
      "97/97 [==============================] - 1s 9ms/step - loss: 0.0043 - accuracy: 0.9998 - val_loss: 1.6877 - val_accuracy: 0.7696\n",
      "Epoch 593/600\n",
      "97/97 [==============================] - 1s 9ms/step - loss: 0.0043 - accuracy: 0.9997 - val_loss: 1.6771 - val_accuracy: 0.7625\n",
      "Epoch 594/600\n",
      "97/97 [==============================] - 1s 9ms/step - loss: 0.0049 - accuracy: 0.9996 - val_loss: 1.7392 - val_accuracy: 0.7670\n",
      "Epoch 595/600\n",
      "97/97 [==============================] - 1s 9ms/step - loss: 0.0053 - accuracy: 0.9997 - val_loss: 1.7270 - val_accuracy: 0.7651\n",
      "Epoch 596/600\n",
      "97/97 [==============================] - 1s 9ms/step - loss: 0.0068 - accuracy: 0.9991 - val_loss: 1.8524 - val_accuracy: 0.7541\n",
      "Epoch 597/600\n",
      "97/97 [==============================] - 1s 10ms/step - loss: 0.0088 - accuracy: 0.9979 - val_loss: 3.9159 - val_accuracy: 0.5931\n",
      "Epoch 598/600\n",
      "97/97 [==============================] - 1s 9ms/step - loss: 0.1165 - accuracy: 0.9658 - val_loss: 4.9992 - val_accuracy: 0.5036\n",
      "Epoch 599/600\n",
      "97/97 [==============================] - 1s 9ms/step - loss: 0.0655 - accuracy: 0.9821 - val_loss: 2.3969 - val_accuracy: 0.6833\n",
      "Epoch 600/600\n",
      "97/97 [==============================] - 1s 9ms/step - loss: 0.0277 - accuracy: 0.9927 - val_loss: 1.7058 - val_accuracy: 0.7618\n"
     ]
    }
   ],
   "source": [
    "with tf.device('/GPU:0'):\n",
    "    history = model.fit(\n",
    "        trainData,\n",
    "        epochs=600,\n",
    "        callbacks = [callback],\n",
    "        validation_data=(testData)\n",
    "       )"
   ]
  },
  {
   "cell_type": "code",
   "execution_count": 18,
   "metadata": {},
   "outputs": [
    {
     "output_type": "execute_result",
     "data": {
      "text/plain": [
       "<matplotlib.legend.Legend at 0x1d71889f9d0>"
      ]
     },
     "metadata": {},
     "execution_count": 18
    },
    {
     "output_type": "display_data",
     "data": {
      "text/plain": "<Figure size 504x288 with 1 Axes>",
      "image/svg+xml": "<?xml version=\"1.0\" encoding=\"utf-8\" standalone=\"no\"?>\r\n<!DOCTYPE svg PUBLIC \"-//W3C//DTD SVG 1.1//EN\"\r\n  \"http://www.w3.org/Graphics/SVG/1.1/DTD/svg11.dtd\">\r\n<!-- Created with matplotlib (https://matplotlib.org/) -->\r\n<svg height=\"262.19625pt\" version=\"1.1\" viewBox=\"0 0 441.58125 262.19625\" width=\"441.58125pt\" xmlns=\"http://www.w3.org/2000/svg\" xmlns:xlink=\"http://www.w3.org/1999/xlink\">\r\n <metadata>\r\n  <rdf:RDF xmlns:cc=\"http://creativecommons.org/ns#\" xmlns:dc=\"http://purl.org/dc/elements/1.1/\" xmlns:rdf=\"http://www.w3.org/1999/02/22-rdf-syntax-ns#\">\r\n   <cc:Work>\r\n    <dc:type rdf:resource=\"http://purl.org/dc/dcmitype/StillImage\"/>\r\n    <dc:date>2021-03-09T01:02:44.897259</dc:date>\r\n    <dc:format>image/svg+xml</dc:format>\r\n    <dc:creator>\r\n     <cc:Agent>\r\n      <dc:title>Matplotlib v3.3.2, https://matplotlib.org/</dc:title>\r\n     </cc:Agent>\r\n    </dc:creator>\r\n   </cc:Work>\r\n  </rdf:RDF>\r\n </metadata>\r\n <defs>\r\n  <style type=\"text/css\">*{stroke-linecap:butt;stroke-linejoin:round;}</style>\r\n </defs>\r\n <g id=\"figure_1\">\r\n  <g id=\"patch_1\">\r\n   <path d=\"M 0 262.19625 \r\nL 441.58125 262.19625 \r\nL 441.58125 0 \r\nL 0 0 \r\nz\r\n\" style=\"fill:none;\"/>\r\n  </g>\r\n  <g id=\"axes_1\">\r\n   <g id=\"patch_2\">\r\n    <path d=\"M 43.78125 224.64 \r\nL 434.38125 224.64 \r\nL 434.38125 7.2 \r\nL 43.78125 7.2 \r\nz\r\n\" style=\"fill:#ffffff;\"/>\r\n   </g>\r\n   <g id=\"matplotlib.axis_1\">\r\n    <g id=\"xtick_1\">\r\n     <g id=\"line2d_1\">\r\n      <defs>\r\n       <path d=\"M 0 0 \r\nL 0 3.5 \r\n\" id=\"mc59c580bf4\" style=\"stroke:#000000;stroke-width:0.8;\"/>\r\n      </defs>\r\n      <g>\r\n       <use style=\"stroke:#000000;stroke-width:0.8;\" x=\"61.535795\" xlink:href=\"#mc59c580bf4\" y=\"224.64\"/>\r\n      </g>\r\n     </g>\r\n     <g id=\"text_1\">\r\n      <!-- 0 -->\r\n      <g transform=\"translate(58.354545 239.238438)scale(0.1 -0.1)\">\r\n       <defs>\r\n        <path d=\"M 31.78125 66.40625 \r\nQ 24.171875 66.40625 20.328125 58.90625 \r\nQ 16.5 51.421875 16.5 36.375 \r\nQ 16.5 21.390625 20.328125 13.890625 \r\nQ 24.171875 6.390625 31.78125 6.390625 \r\nQ 39.453125 6.390625 43.28125 13.890625 \r\nQ 47.125 21.390625 47.125 36.375 \r\nQ 47.125 51.421875 43.28125 58.90625 \r\nQ 39.453125 66.40625 31.78125 66.40625 \r\nz\r\nM 31.78125 74.21875 \r\nQ 44.046875 74.21875 50.515625 64.515625 \r\nQ 56.984375 54.828125 56.984375 36.375 \r\nQ 56.984375 17.96875 50.515625 8.265625 \r\nQ 44.046875 -1.421875 31.78125 -1.421875 \r\nQ 19.53125 -1.421875 13.0625 8.265625 \r\nQ 6.59375 17.96875 6.59375 36.375 \r\nQ 6.59375 54.828125 13.0625 64.515625 \r\nQ 19.53125 74.21875 31.78125 74.21875 \r\nz\r\n\" id=\"DejaVuSans-48\"/>\r\n       </defs>\r\n       <use xlink:href=\"#DejaVuSans-48\"/>\r\n      </g>\r\n     </g>\r\n    </g>\r\n    <g id=\"xtick_2\">\r\n     <g id=\"line2d_2\">\r\n      <g>\r\n       <use style=\"stroke:#000000;stroke-width:0.8;\" x=\"120.816415\" xlink:href=\"#mc59c580bf4\" y=\"224.64\"/>\r\n      </g>\r\n     </g>\r\n     <g id=\"text_2\">\r\n      <!-- 100 -->\r\n      <g transform=\"translate(111.272665 239.238438)scale(0.1 -0.1)\">\r\n       <defs>\r\n        <path d=\"M 12.40625 8.296875 \r\nL 28.515625 8.296875 \r\nL 28.515625 63.921875 \r\nL 10.984375 60.40625 \r\nL 10.984375 69.390625 \r\nL 28.421875 72.90625 \r\nL 38.28125 72.90625 \r\nL 38.28125 8.296875 \r\nL 54.390625 8.296875 \r\nL 54.390625 0 \r\nL 12.40625 0 \r\nz\r\n\" id=\"DejaVuSans-49\"/>\r\n       </defs>\r\n       <use xlink:href=\"#DejaVuSans-49\"/>\r\n       <use x=\"63.623047\" xlink:href=\"#DejaVuSans-48\"/>\r\n       <use x=\"127.246094\" xlink:href=\"#DejaVuSans-48\"/>\r\n      </g>\r\n     </g>\r\n    </g>\r\n    <g id=\"xtick_3\">\r\n     <g id=\"line2d_3\">\r\n      <g>\r\n       <use style=\"stroke:#000000;stroke-width:0.8;\" x=\"180.097034\" xlink:href=\"#mc59c580bf4\" y=\"224.64\"/>\r\n      </g>\r\n     </g>\r\n     <g id=\"text_3\">\r\n      <!-- 200 -->\r\n      <g transform=\"translate(170.553284 239.238438)scale(0.1 -0.1)\">\r\n       <defs>\r\n        <path d=\"M 19.1875 8.296875 \r\nL 53.609375 8.296875 \r\nL 53.609375 0 \r\nL 7.328125 0 \r\nL 7.328125 8.296875 \r\nQ 12.9375 14.109375 22.625 23.890625 \r\nQ 32.328125 33.6875 34.8125 36.53125 \r\nQ 39.546875 41.84375 41.421875 45.53125 \r\nQ 43.3125 49.21875 43.3125 52.78125 \r\nQ 43.3125 58.59375 39.234375 62.25 \r\nQ 35.15625 65.921875 28.609375 65.921875 \r\nQ 23.96875 65.921875 18.8125 64.3125 \r\nQ 13.671875 62.703125 7.8125 59.421875 \r\nL 7.8125 69.390625 \r\nQ 13.765625 71.78125 18.9375 73 \r\nQ 24.125 74.21875 28.421875 74.21875 \r\nQ 39.75 74.21875 46.484375 68.546875 \r\nQ 53.21875 62.890625 53.21875 53.421875 \r\nQ 53.21875 48.921875 51.53125 44.890625 \r\nQ 49.859375 40.875 45.40625 35.40625 \r\nQ 44.1875 33.984375 37.640625 27.21875 \r\nQ 31.109375 20.453125 19.1875 8.296875 \r\nz\r\n\" id=\"DejaVuSans-50\"/>\r\n       </defs>\r\n       <use xlink:href=\"#DejaVuSans-50\"/>\r\n       <use x=\"63.623047\" xlink:href=\"#DejaVuSans-48\"/>\r\n       <use x=\"127.246094\" xlink:href=\"#DejaVuSans-48\"/>\r\n      </g>\r\n     </g>\r\n    </g>\r\n    <g id=\"xtick_4\">\r\n     <g id=\"line2d_4\">\r\n      <g>\r\n       <use style=\"stroke:#000000;stroke-width:0.8;\" x=\"239.377653\" xlink:href=\"#mc59c580bf4\" y=\"224.64\"/>\r\n      </g>\r\n     </g>\r\n     <g id=\"text_4\">\r\n      <!-- 300 -->\r\n      <g transform=\"translate(229.833903 239.238438)scale(0.1 -0.1)\">\r\n       <defs>\r\n        <path d=\"M 40.578125 39.3125 \r\nQ 47.65625 37.796875 51.625 33 \r\nQ 55.609375 28.21875 55.609375 21.1875 \r\nQ 55.609375 10.40625 48.1875 4.484375 \r\nQ 40.765625 -1.421875 27.09375 -1.421875 \r\nQ 22.515625 -1.421875 17.65625 -0.515625 \r\nQ 12.796875 0.390625 7.625 2.203125 \r\nL 7.625 11.71875 \r\nQ 11.71875 9.328125 16.59375 8.109375 \r\nQ 21.484375 6.890625 26.8125 6.890625 \r\nQ 36.078125 6.890625 40.9375 10.546875 \r\nQ 45.796875 14.203125 45.796875 21.1875 \r\nQ 45.796875 27.640625 41.28125 31.265625 \r\nQ 36.765625 34.90625 28.71875 34.90625 \r\nL 20.21875 34.90625 \r\nL 20.21875 43.015625 \r\nL 29.109375 43.015625 \r\nQ 36.375 43.015625 40.234375 45.921875 \r\nQ 44.09375 48.828125 44.09375 54.296875 \r\nQ 44.09375 59.90625 40.109375 62.90625 \r\nQ 36.140625 65.921875 28.71875 65.921875 \r\nQ 24.65625 65.921875 20.015625 65.03125 \r\nQ 15.375 64.15625 9.8125 62.3125 \r\nL 9.8125 71.09375 \r\nQ 15.4375 72.65625 20.34375 73.4375 \r\nQ 25.25 74.21875 29.59375 74.21875 \r\nQ 40.828125 74.21875 47.359375 69.109375 \r\nQ 53.90625 64.015625 53.90625 55.328125 \r\nQ 53.90625 49.265625 50.4375 45.09375 \r\nQ 46.96875 40.921875 40.578125 39.3125 \r\nz\r\n\" id=\"DejaVuSans-51\"/>\r\n       </defs>\r\n       <use xlink:href=\"#DejaVuSans-51\"/>\r\n       <use x=\"63.623047\" xlink:href=\"#DejaVuSans-48\"/>\r\n       <use x=\"127.246094\" xlink:href=\"#DejaVuSans-48\"/>\r\n      </g>\r\n     </g>\r\n    </g>\r\n    <g id=\"xtick_5\">\r\n     <g id=\"line2d_5\">\r\n      <g>\r\n       <use style=\"stroke:#000000;stroke-width:0.8;\" x=\"298.658272\" xlink:href=\"#mc59c580bf4\" y=\"224.64\"/>\r\n      </g>\r\n     </g>\r\n     <g id=\"text_5\">\r\n      <!-- 400 -->\r\n      <g transform=\"translate(289.114522 239.238438)scale(0.1 -0.1)\">\r\n       <defs>\r\n        <path d=\"M 37.796875 64.3125 \r\nL 12.890625 25.390625 \r\nL 37.796875 25.390625 \r\nz\r\nM 35.203125 72.90625 \r\nL 47.609375 72.90625 \r\nL 47.609375 25.390625 \r\nL 58.015625 25.390625 \r\nL 58.015625 17.1875 \r\nL 47.609375 17.1875 \r\nL 47.609375 0 \r\nL 37.796875 0 \r\nL 37.796875 17.1875 \r\nL 4.890625 17.1875 \r\nL 4.890625 26.703125 \r\nz\r\n\" id=\"DejaVuSans-52\"/>\r\n       </defs>\r\n       <use xlink:href=\"#DejaVuSans-52\"/>\r\n       <use x=\"63.623047\" xlink:href=\"#DejaVuSans-48\"/>\r\n       <use x=\"127.246094\" xlink:href=\"#DejaVuSans-48\"/>\r\n      </g>\r\n     </g>\r\n    </g>\r\n    <g id=\"xtick_6\">\r\n     <g id=\"line2d_6\">\r\n      <g>\r\n       <use style=\"stroke:#000000;stroke-width:0.8;\" x=\"357.938892\" xlink:href=\"#mc59c580bf4\" y=\"224.64\"/>\r\n      </g>\r\n     </g>\r\n     <g id=\"text_6\">\r\n      <!-- 500 -->\r\n      <g transform=\"translate(348.395142 239.238438)scale(0.1 -0.1)\">\r\n       <defs>\r\n        <path d=\"M 10.796875 72.90625 \r\nL 49.515625 72.90625 \r\nL 49.515625 64.59375 \r\nL 19.828125 64.59375 \r\nL 19.828125 46.734375 \r\nQ 21.96875 47.46875 24.109375 47.828125 \r\nQ 26.265625 48.1875 28.421875 48.1875 \r\nQ 40.625 48.1875 47.75 41.5 \r\nQ 54.890625 34.8125 54.890625 23.390625 \r\nQ 54.890625 11.625 47.5625 5.09375 \r\nQ 40.234375 -1.421875 26.90625 -1.421875 \r\nQ 22.3125 -1.421875 17.546875 -0.640625 \r\nQ 12.796875 0.140625 7.71875 1.703125 \r\nL 7.71875 11.625 \r\nQ 12.109375 9.234375 16.796875 8.0625 \r\nQ 21.484375 6.890625 26.703125 6.890625 \r\nQ 35.15625 6.890625 40.078125 11.328125 \r\nQ 45.015625 15.765625 45.015625 23.390625 \r\nQ 45.015625 31 40.078125 35.4375 \r\nQ 35.15625 39.890625 26.703125 39.890625 \r\nQ 22.75 39.890625 18.8125 39.015625 \r\nQ 14.890625 38.140625 10.796875 36.28125 \r\nz\r\n\" id=\"DejaVuSans-53\"/>\r\n       </defs>\r\n       <use xlink:href=\"#DejaVuSans-53\"/>\r\n       <use x=\"63.623047\" xlink:href=\"#DejaVuSans-48\"/>\r\n       <use x=\"127.246094\" xlink:href=\"#DejaVuSans-48\"/>\r\n      </g>\r\n     </g>\r\n    </g>\r\n    <g id=\"xtick_7\">\r\n     <g id=\"line2d_7\">\r\n      <g>\r\n       <use style=\"stroke:#000000;stroke-width:0.8;\" x=\"417.219511\" xlink:href=\"#mc59c580bf4\" y=\"224.64\"/>\r\n      </g>\r\n     </g>\r\n     <g id=\"text_7\">\r\n      <!-- 600 -->\r\n      <g transform=\"translate(407.675761 239.238438)scale(0.1 -0.1)\">\r\n       <defs>\r\n        <path d=\"M 33.015625 40.375 \r\nQ 26.375 40.375 22.484375 35.828125 \r\nQ 18.609375 31.296875 18.609375 23.390625 \r\nQ 18.609375 15.53125 22.484375 10.953125 \r\nQ 26.375 6.390625 33.015625 6.390625 \r\nQ 39.65625 6.390625 43.53125 10.953125 \r\nQ 47.40625 15.53125 47.40625 23.390625 \r\nQ 47.40625 31.296875 43.53125 35.828125 \r\nQ 39.65625 40.375 33.015625 40.375 \r\nz\r\nM 52.59375 71.296875 \r\nL 52.59375 62.3125 \r\nQ 48.875 64.0625 45.09375 64.984375 \r\nQ 41.3125 65.921875 37.59375 65.921875 \r\nQ 27.828125 65.921875 22.671875 59.328125 \r\nQ 17.53125 52.734375 16.796875 39.40625 \r\nQ 19.671875 43.65625 24.015625 45.921875 \r\nQ 28.375 48.1875 33.59375 48.1875 \r\nQ 44.578125 48.1875 50.953125 41.515625 \r\nQ 57.328125 34.859375 57.328125 23.390625 \r\nQ 57.328125 12.15625 50.6875 5.359375 \r\nQ 44.046875 -1.421875 33.015625 -1.421875 \r\nQ 20.359375 -1.421875 13.671875 8.265625 \r\nQ 6.984375 17.96875 6.984375 36.375 \r\nQ 6.984375 53.65625 15.1875 63.9375 \r\nQ 23.390625 74.21875 37.203125 74.21875 \r\nQ 40.921875 74.21875 44.703125 73.484375 \r\nQ 48.484375 72.75 52.59375 71.296875 \r\nz\r\n\" id=\"DejaVuSans-54\"/>\r\n       </defs>\r\n       <use xlink:href=\"#DejaVuSans-54\"/>\r\n       <use x=\"63.623047\" xlink:href=\"#DejaVuSans-48\"/>\r\n       <use x=\"127.246094\" xlink:href=\"#DejaVuSans-48\"/>\r\n      </g>\r\n     </g>\r\n    </g>\r\n    <g id=\"text_8\">\r\n     <!-- epoch -->\r\n     <g transform=\"translate(223.853125 252.916563)scale(0.1 -0.1)\">\r\n      <defs>\r\n       <path d=\"M 56.203125 29.59375 \r\nL 56.203125 25.203125 \r\nL 14.890625 25.203125 \r\nQ 15.484375 15.921875 20.484375 11.0625 \r\nQ 25.484375 6.203125 34.421875 6.203125 \r\nQ 39.59375 6.203125 44.453125 7.46875 \r\nQ 49.3125 8.734375 54.109375 11.28125 \r\nL 54.109375 2.78125 \r\nQ 49.265625 0.734375 44.1875 -0.34375 \r\nQ 39.109375 -1.421875 33.890625 -1.421875 \r\nQ 20.796875 -1.421875 13.15625 6.1875 \r\nQ 5.515625 13.8125 5.515625 26.8125 \r\nQ 5.515625 40.234375 12.765625 48.109375 \r\nQ 20.015625 56 32.328125 56 \r\nQ 43.359375 56 49.78125 48.890625 \r\nQ 56.203125 41.796875 56.203125 29.59375 \r\nz\r\nM 47.21875 32.234375 \r\nQ 47.125 39.59375 43.09375 43.984375 \r\nQ 39.0625 48.390625 32.421875 48.390625 \r\nQ 24.90625 48.390625 20.390625 44.140625 \r\nQ 15.875 39.890625 15.1875 32.171875 \r\nz\r\n\" id=\"DejaVuSans-101\"/>\r\n       <path d=\"M 18.109375 8.203125 \r\nL 18.109375 -20.796875 \r\nL 9.078125 -20.796875 \r\nL 9.078125 54.6875 \r\nL 18.109375 54.6875 \r\nL 18.109375 46.390625 \r\nQ 20.953125 51.265625 25.265625 53.625 \r\nQ 29.59375 56 35.59375 56 \r\nQ 45.5625 56 51.78125 48.09375 \r\nQ 58.015625 40.1875 58.015625 27.296875 \r\nQ 58.015625 14.40625 51.78125 6.484375 \r\nQ 45.5625 -1.421875 35.59375 -1.421875 \r\nQ 29.59375 -1.421875 25.265625 0.953125 \r\nQ 20.953125 3.328125 18.109375 8.203125 \r\nz\r\nM 48.6875 27.296875 \r\nQ 48.6875 37.203125 44.609375 42.84375 \r\nQ 40.53125 48.484375 33.40625 48.484375 \r\nQ 26.265625 48.484375 22.1875 42.84375 \r\nQ 18.109375 37.203125 18.109375 27.296875 \r\nQ 18.109375 17.390625 22.1875 11.75 \r\nQ 26.265625 6.109375 33.40625 6.109375 \r\nQ 40.53125 6.109375 44.609375 11.75 \r\nQ 48.6875 17.390625 48.6875 27.296875 \r\nz\r\n\" id=\"DejaVuSans-112\"/>\r\n       <path d=\"M 30.609375 48.390625 \r\nQ 23.390625 48.390625 19.1875 42.75 \r\nQ 14.984375 37.109375 14.984375 27.296875 \r\nQ 14.984375 17.484375 19.15625 11.84375 \r\nQ 23.34375 6.203125 30.609375 6.203125 \r\nQ 37.796875 6.203125 41.984375 11.859375 \r\nQ 46.1875 17.53125 46.1875 27.296875 \r\nQ 46.1875 37.015625 41.984375 42.703125 \r\nQ 37.796875 48.390625 30.609375 48.390625 \r\nz\r\nM 30.609375 56 \r\nQ 42.328125 56 49.015625 48.375 \r\nQ 55.71875 40.765625 55.71875 27.296875 \r\nQ 55.71875 13.875 49.015625 6.21875 \r\nQ 42.328125 -1.421875 30.609375 -1.421875 \r\nQ 18.84375 -1.421875 12.171875 6.21875 \r\nQ 5.515625 13.875 5.515625 27.296875 \r\nQ 5.515625 40.765625 12.171875 48.375 \r\nQ 18.84375 56 30.609375 56 \r\nz\r\n\" id=\"DejaVuSans-111\"/>\r\n       <path d=\"M 48.78125 52.59375 \r\nL 48.78125 44.1875 \r\nQ 44.96875 46.296875 41.140625 47.34375 \r\nQ 37.3125 48.390625 33.40625 48.390625 \r\nQ 24.65625 48.390625 19.8125 42.84375 \r\nQ 14.984375 37.3125 14.984375 27.296875 \r\nQ 14.984375 17.28125 19.8125 11.734375 \r\nQ 24.65625 6.203125 33.40625 6.203125 \r\nQ 37.3125 6.203125 41.140625 7.25 \r\nQ 44.96875 8.296875 48.78125 10.40625 \r\nL 48.78125 2.09375 \r\nQ 45.015625 0.34375 40.984375 -0.53125 \r\nQ 36.96875 -1.421875 32.421875 -1.421875 \r\nQ 20.0625 -1.421875 12.78125 6.34375 \r\nQ 5.515625 14.109375 5.515625 27.296875 \r\nQ 5.515625 40.671875 12.859375 48.328125 \r\nQ 20.21875 56 33.015625 56 \r\nQ 37.15625 56 41.109375 55.140625 \r\nQ 45.0625 54.296875 48.78125 52.59375 \r\nz\r\n\" id=\"DejaVuSans-99\"/>\r\n       <path d=\"M 54.890625 33.015625 \r\nL 54.890625 0 \r\nL 45.90625 0 \r\nL 45.90625 32.71875 \r\nQ 45.90625 40.484375 42.875 44.328125 \r\nQ 39.84375 48.1875 33.796875 48.1875 \r\nQ 26.515625 48.1875 22.3125 43.546875 \r\nQ 18.109375 38.921875 18.109375 30.90625 \r\nL 18.109375 0 \r\nL 9.078125 0 \r\nL 9.078125 75.984375 \r\nL 18.109375 75.984375 \r\nL 18.109375 46.1875 \r\nQ 21.34375 51.125 25.703125 53.5625 \r\nQ 30.078125 56 35.796875 56 \r\nQ 45.21875 56 50.046875 50.171875 \r\nQ 54.890625 44.34375 54.890625 33.015625 \r\nz\r\n\" id=\"DejaVuSans-104\"/>\r\n      </defs>\r\n      <use xlink:href=\"#DejaVuSans-101\"/>\r\n      <use x=\"61.523438\" xlink:href=\"#DejaVuSans-112\"/>\r\n      <use x=\"125\" xlink:href=\"#DejaVuSans-111\"/>\r\n      <use x=\"186.181641\" xlink:href=\"#DejaVuSans-99\"/>\r\n      <use x=\"241.162109\" xlink:href=\"#DejaVuSans-104\"/>\r\n     </g>\r\n    </g>\r\n   </g>\r\n   <g id=\"matplotlib.axis_2\">\r\n    <g id=\"ytick_1\">\r\n     <g id=\"line2d_8\">\r\n      <defs>\r\n       <path d=\"M 0 0 \r\nL -3.5 0 \r\n\" id=\"mc58b914853\" style=\"stroke:#000000;stroke-width:0.8;\"/>\r\n      </defs>\r\n      <g>\r\n       <use style=\"stroke:#000000;stroke-width:0.8;\" x=\"43.78125\" xlink:href=\"#mc58b914853\" y=\"183.193416\"/>\r\n      </g>\r\n     </g>\r\n     <g id=\"text_9\">\r\n      <!-- 0.2 -->\r\n      <g transform=\"translate(20.878125 186.992635)scale(0.1 -0.1)\">\r\n       <defs>\r\n        <path d=\"M 10.6875 12.40625 \r\nL 21 12.40625 \r\nL 21 0 \r\nL 10.6875 0 \r\nz\r\n\" id=\"DejaVuSans-46\"/>\r\n       </defs>\r\n       <use xlink:href=\"#DejaVuSans-48\"/>\r\n       <use x=\"63.623047\" xlink:href=\"#DejaVuSans-46\"/>\r\n       <use x=\"95.410156\" xlink:href=\"#DejaVuSans-50\"/>\r\n      </g>\r\n     </g>\r\n    </g>\r\n    <g id=\"ytick_2\">\r\n     <g id=\"line2d_9\">\r\n      <g>\r\n       <use style=\"stroke:#000000;stroke-width:0.8;\" x=\"43.78125\" xlink:href=\"#mc58b914853\" y=\"141.657547\"/>\r\n      </g>\r\n     </g>\r\n     <g id=\"text_10\">\r\n      <!-- 0.4 -->\r\n      <g transform=\"translate(20.878125 145.456766)scale(0.1 -0.1)\">\r\n       <use xlink:href=\"#DejaVuSans-48\"/>\r\n       <use x=\"63.623047\" xlink:href=\"#DejaVuSans-46\"/>\r\n       <use x=\"95.410156\" xlink:href=\"#DejaVuSans-52\"/>\r\n      </g>\r\n     </g>\r\n    </g>\r\n    <g id=\"ytick_3\">\r\n     <g id=\"line2d_10\">\r\n      <g>\r\n       <use style=\"stroke:#000000;stroke-width:0.8;\" x=\"43.78125\" xlink:href=\"#mc58b914853\" y=\"100.121679\"/>\r\n      </g>\r\n     </g>\r\n     <g id=\"text_11\">\r\n      <!-- 0.6 -->\r\n      <g transform=\"translate(20.878125 103.920898)scale(0.1 -0.1)\">\r\n       <use xlink:href=\"#DejaVuSans-48\"/>\r\n       <use x=\"63.623047\" xlink:href=\"#DejaVuSans-46\"/>\r\n       <use x=\"95.410156\" xlink:href=\"#DejaVuSans-54\"/>\r\n      </g>\r\n     </g>\r\n    </g>\r\n    <g id=\"ytick_4\">\r\n     <g id=\"line2d_11\">\r\n      <g>\r\n       <use style=\"stroke:#000000;stroke-width:0.8;\" x=\"43.78125\" xlink:href=\"#mc58b914853\" y=\"58.58581\"/>\r\n      </g>\r\n     </g>\r\n     <g id=\"text_12\">\r\n      <!-- 0.8 -->\r\n      <g transform=\"translate(20.878125 62.385029)scale(0.1 -0.1)\">\r\n       <defs>\r\n        <path d=\"M 31.78125 34.625 \r\nQ 24.75 34.625 20.71875 30.859375 \r\nQ 16.703125 27.09375 16.703125 20.515625 \r\nQ 16.703125 13.921875 20.71875 10.15625 \r\nQ 24.75 6.390625 31.78125 6.390625 \r\nQ 38.8125 6.390625 42.859375 10.171875 \r\nQ 46.921875 13.96875 46.921875 20.515625 \r\nQ 46.921875 27.09375 42.890625 30.859375 \r\nQ 38.875 34.625 31.78125 34.625 \r\nz\r\nM 21.921875 38.8125 \r\nQ 15.578125 40.375 12.03125 44.71875 \r\nQ 8.5 49.078125 8.5 55.328125 \r\nQ 8.5 64.0625 14.71875 69.140625 \r\nQ 20.953125 74.21875 31.78125 74.21875 \r\nQ 42.671875 74.21875 48.875 69.140625 \r\nQ 55.078125 64.0625 55.078125 55.328125 \r\nQ 55.078125 49.078125 51.53125 44.71875 \r\nQ 48 40.375 41.703125 38.8125 \r\nQ 48.828125 37.15625 52.796875 32.3125 \r\nQ 56.78125 27.484375 56.78125 20.515625 \r\nQ 56.78125 9.90625 50.3125 4.234375 \r\nQ 43.84375 -1.421875 31.78125 -1.421875 \r\nQ 19.734375 -1.421875 13.25 4.234375 \r\nQ 6.78125 9.90625 6.78125 20.515625 \r\nQ 6.78125 27.484375 10.78125 32.3125 \r\nQ 14.796875 37.15625 21.921875 38.8125 \r\nz\r\nM 18.3125 54.390625 \r\nQ 18.3125 48.734375 21.84375 45.5625 \r\nQ 25.390625 42.390625 31.78125 42.390625 \r\nQ 38.140625 42.390625 41.71875 45.5625 \r\nQ 45.3125 48.734375 45.3125 54.390625 \r\nQ 45.3125 60.0625 41.71875 63.234375 \r\nQ 38.140625 66.40625 31.78125 66.40625 \r\nQ 25.390625 66.40625 21.84375 63.234375 \r\nQ 18.3125 60.0625 18.3125 54.390625 \r\nz\r\n\" id=\"DejaVuSans-56\"/>\r\n       </defs>\r\n       <use xlink:href=\"#DejaVuSans-48\"/>\r\n       <use x=\"63.623047\" xlink:href=\"#DejaVuSans-46\"/>\r\n       <use x=\"95.410156\" xlink:href=\"#DejaVuSans-56\"/>\r\n      </g>\r\n     </g>\r\n    </g>\r\n    <g id=\"ytick_5\">\r\n     <g id=\"line2d_12\">\r\n      <g>\r\n       <use style=\"stroke:#000000;stroke-width:0.8;\" x=\"43.78125\" xlink:href=\"#mc58b914853\" y=\"17.049942\"/>\r\n      </g>\r\n     </g>\r\n     <g id=\"text_13\">\r\n      <!-- 1.0 -->\r\n      <g transform=\"translate(20.878125 20.84916)scale(0.1 -0.1)\">\r\n       <use xlink:href=\"#DejaVuSans-49\"/>\r\n       <use x=\"63.623047\" xlink:href=\"#DejaVuSans-46\"/>\r\n       <use x=\"95.410156\" xlink:href=\"#DejaVuSans-48\"/>\r\n      </g>\r\n     </g>\r\n    </g>\r\n    <g id=\"text_14\">\r\n     <!-- accuracy -->\r\n     <g transform=\"translate(14.798438 138.479375)rotate(-90)scale(0.1 -0.1)\">\r\n      <defs>\r\n       <path d=\"M 34.28125 27.484375 \r\nQ 23.390625 27.484375 19.1875 25 \r\nQ 14.984375 22.515625 14.984375 16.5 \r\nQ 14.984375 11.71875 18.140625 8.90625 \r\nQ 21.296875 6.109375 26.703125 6.109375 \r\nQ 34.1875 6.109375 38.703125 11.40625 \r\nQ 43.21875 16.703125 43.21875 25.484375 \r\nL 43.21875 27.484375 \r\nz\r\nM 52.203125 31.203125 \r\nL 52.203125 0 \r\nL 43.21875 0 \r\nL 43.21875 8.296875 \r\nQ 40.140625 3.328125 35.546875 0.953125 \r\nQ 30.953125 -1.421875 24.3125 -1.421875 \r\nQ 15.921875 -1.421875 10.953125 3.296875 \r\nQ 6 8.015625 6 15.921875 \r\nQ 6 25.140625 12.171875 29.828125 \r\nQ 18.359375 34.515625 30.609375 34.515625 \r\nL 43.21875 34.515625 \r\nL 43.21875 35.40625 \r\nQ 43.21875 41.609375 39.140625 45 \r\nQ 35.0625 48.390625 27.6875 48.390625 \r\nQ 23 48.390625 18.546875 47.265625 \r\nQ 14.109375 46.140625 10.015625 43.890625 \r\nL 10.015625 52.203125 \r\nQ 14.9375 54.109375 19.578125 55.046875 \r\nQ 24.21875 56 28.609375 56 \r\nQ 40.484375 56 46.34375 49.84375 \r\nQ 52.203125 43.703125 52.203125 31.203125 \r\nz\r\n\" id=\"DejaVuSans-97\"/>\r\n       <path d=\"M 8.5 21.578125 \r\nL 8.5 54.6875 \r\nL 17.484375 54.6875 \r\nL 17.484375 21.921875 \r\nQ 17.484375 14.15625 20.5 10.265625 \r\nQ 23.53125 6.390625 29.59375 6.390625 \r\nQ 36.859375 6.390625 41.078125 11.03125 \r\nQ 45.3125 15.671875 45.3125 23.6875 \r\nL 45.3125 54.6875 \r\nL 54.296875 54.6875 \r\nL 54.296875 0 \r\nL 45.3125 0 \r\nL 45.3125 8.40625 \r\nQ 42.046875 3.421875 37.71875 1 \r\nQ 33.40625 -1.421875 27.6875 -1.421875 \r\nQ 18.265625 -1.421875 13.375 4.4375 \r\nQ 8.5 10.296875 8.5 21.578125 \r\nz\r\nM 31.109375 56 \r\nz\r\n\" id=\"DejaVuSans-117\"/>\r\n       <path d=\"M 41.109375 46.296875 \r\nQ 39.59375 47.171875 37.8125 47.578125 \r\nQ 36.03125 48 33.890625 48 \r\nQ 26.265625 48 22.1875 43.046875 \r\nQ 18.109375 38.09375 18.109375 28.8125 \r\nL 18.109375 0 \r\nL 9.078125 0 \r\nL 9.078125 54.6875 \r\nL 18.109375 54.6875 \r\nL 18.109375 46.1875 \r\nQ 20.953125 51.171875 25.484375 53.578125 \r\nQ 30.03125 56 36.53125 56 \r\nQ 37.453125 56 38.578125 55.875 \r\nQ 39.703125 55.765625 41.0625 55.515625 \r\nz\r\n\" id=\"DejaVuSans-114\"/>\r\n       <path d=\"M 32.171875 -5.078125 \r\nQ 28.375 -14.84375 24.75 -17.8125 \r\nQ 21.140625 -20.796875 15.09375 -20.796875 \r\nL 7.90625 -20.796875 \r\nL 7.90625 -13.28125 \r\nL 13.1875 -13.28125 \r\nQ 16.890625 -13.28125 18.9375 -11.515625 \r\nQ 21 -9.765625 23.484375 -3.21875 \r\nL 25.09375 0.875 \r\nL 2.984375 54.6875 \r\nL 12.5 54.6875 \r\nL 29.59375 11.921875 \r\nL 46.6875 54.6875 \r\nL 56.203125 54.6875 \r\nz\r\n\" id=\"DejaVuSans-121\"/>\r\n      </defs>\r\n      <use xlink:href=\"#DejaVuSans-97\"/>\r\n      <use x=\"61.279297\" xlink:href=\"#DejaVuSans-99\"/>\r\n      <use x=\"116.259766\" xlink:href=\"#DejaVuSans-99\"/>\r\n      <use x=\"171.240234\" xlink:href=\"#DejaVuSans-117\"/>\r\n      <use x=\"234.619141\" xlink:href=\"#DejaVuSans-114\"/>\r\n      <use x=\"275.732422\" xlink:href=\"#DejaVuSans-97\"/>\r\n      <use x=\"337.011719\" xlink:href=\"#DejaVuSans-99\"/>\r\n      <use x=\"391.992188\" xlink:href=\"#DejaVuSans-121\"/>\r\n     </g>\r\n    </g>\r\n   </g>\r\n   <g id=\"line2d_13\">\r\n    <path clip-path=\"url(#p026d7e57eb)\" d=\"M 61.535795 180.659756 \r\nL 62.128602 154.952529 \r\nL 63.314214 130.424537 \r\nL 64.499826 112.837151 \r\nL 65.685439 99.865621 \r\nL 68.056664 84.603002 \r\nL 68.64947 82.177157 \r\nL 69.242276 78.639462 \r\nL 71.020695 71.901005 \r\nL 72.206307 68.397005 \r\nL 72.799113 66.341777 \r\nL 73.984725 63.208393 \r\nL 75.170338 60.479321 \r\nL 76.948756 56.436242 \r\nL 77.541563 55.290709 \r\nL 78.134369 54.58317 \r\nL 78.727175 52.864852 \r\nL 79.319981 51.685624 \r\nL 79.912787 51.07917 \r\nL 81.0984 49.023929 \r\nL 82.284012 46.362246 \r\nL 82.876818 45.587318 \r\nL 83.469625 45.183019 \r\nL 84.655237 43.936402 \r\nL 85.248043 42.858246 \r\nL 86.433656 41.207317 \r\nL 87.619268 40.061784 \r\nL 88.212074 39.455317 \r\nL 88.80488 39.017323 \r\nL 89.397686 38.073933 \r\nL 89.990493 37.703316 \r\nL 90.583299 37.096861 \r\nL 91.768911 36.220861 \r\nL 93.54733 34.3004 \r\nL 94.732942 33.458094 \r\nL 95.325748 33.154867 \r\nL 95.918555 32.076711 \r\nL 96.511361 31.672399 \r\nL 97.104167 31.773471 \r\nL 98.289779 30.897483 \r\nL 98.882586 30.15625 \r\nL 100.068198 29.246555 \r\nL 100.661004 28.404249 \r\nL 101.25381 28.640087 \r\nL 101.846617 29.010704 \r\nL 102.439423 27.966243 \r\nL 103.032229 27.865171 \r\nL 104.217841 27.123937 \r\nL 105.403454 26.618554 \r\nL 105.99626 26.517482 \r\nL 106.589066 26.618554 \r\nL 107.181872 26.079476 \r\nL 107.774678 25.843638 \r\nL 108.367485 25.94471 \r\nL 109.553097 24.495937 \r\nL 110.145903 24.563326 \r\nL 111.331516 23.721021 \r\nL 113.109934 23.754716 \r\nL 113.70274 23.687326 \r\nL 114.295547 23.283015 \r\nL 114.888353 23.518865 \r\nL 116.073965 22.642865 \r\nL 116.666771 22.845021 \r\nL 117.259578 22.272248 \r\nL 118.44519 22.642865 \r\nL 119.037996 22.642865 \r\nL 119.630802 25.270865 \r\nL 120.223608 25.102404 \r\nL 121.409221 23.148248 \r\nL 122.002027 22.474404 \r\nL 122.594833 22.103787 \r\nL 123.187639 23.047176 \r\nL 123.780446 23.586242 \r\nL 124.373252 21.96902 \r\nL 125.558864 21.126715 \r\nL 126.15167 20.890865 \r\nL 126.744477 20.958254 \r\nL 127.337283 24.327476 \r\nL 127.930089 26.483788 \r\nL 128.522895 22.407014 \r\nL 129.115701 21.429943 \r\nL 129.708508 21.295176 \r\nL 130.301314 20.85717 \r\nL 131.486926 20.385481 \r\nL 132.079732 20.115936 \r\nL 132.672539 20.284397 \r\nL 133.265345 19.98117 \r\nL 133.858151 19.947475 \r\nL 134.450957 19.644247 \r\nL 135.636569 19.745332 \r\nL 136.229376 20.486553 \r\nL 136.822182 27.225022 \r\nL 137.414988 23.721021 \r\nL 138.007794 23.855787 \r\nL 138.6006 22.036398 \r\nL 139.193407 20.722403 \r\nL 139.786213 20.486553 \r\nL 141.564631 20.351787 \r\nL 142.157438 19.846403 \r\nL 142.750244 19.947475 \r\nL 143.34305 19.644247 \r\nL 143.935856 19.576858 \r\nL 144.528662 19.644247 \r\nL 145.121469 19.947475 \r\nL 145.714275 20.991936 \r\nL 146.307081 24.057943 \r\nL 146.899887 27.797782 \r\nL 147.492693 22.541781 \r\nL 148.0855 21.564709 \r\nL 149.271112 20.250715 \r\nL 149.863918 19.812709 \r\nL 150.456724 19.644247 \r\nL 151.04953 20.183325 \r\nL 151.642337 20.115936 \r\nL 152.235143 19.711637 \r\nL 152.827949 19.779014 \r\nL 153.420755 19.475786 \r\nL 154.013561 19.34102 \r\nL 154.606368 19.374715 \r\nL 155.199174 19.172559 \r\nL 155.79198 19.374715 \r\nL 156.384786 18.903014 \r\nL 156.977592 18.70087 \r\nL 157.570399 19.037792 \r\nL 158.163205 19.610553 \r\nL 158.756011 25.169781 \r\nL 159.348817 27.022866 \r\nL 159.941623 20.115936 \r\nL 160.53443 19.576858 \r\nL 161.127236 19.408397 \r\nL 161.720042 18.835637 \r\nL 162.312848 18.801942 \r\nL 162.905654 18.498715 \r\nL 163.498461 18.599786 \r\nL 164.684073 18.431325 \r\nL 165.276879 18.431325 \r\nL 165.869685 18.296559 \r\nL 166.462491 18.566092 \r\nL 167.055298 18.363936 \r\nL 167.648104 19.745332 \r\nL 168.24091 32.48101 \r\nL 168.833716 28.202093 \r\nL 169.426522 19.779014 \r\nL 170.019329 19.98117 \r\nL 170.612135 18.869331 \r\nL 171.204941 18.566092 \r\nL 171.797747 18.566092 \r\nL 172.98336 18.39763 \r\nL 174.168972 18.262864 \r\nL 174.761778 18.667176 \r\nL 175.354584 18.39763 \r\nL 175.947391 18.431325 \r\nL 176.540197 18.229169 \r\nL 177.725809 18.39763 \r\nL 178.318615 18.768247 \r\nL 178.911421 18.70087 \r\nL 179.504228 27.05656 \r\nL 180.097034 28.067327 \r\nL 180.68984 20.756098 \r\nL 181.282646 19.037792 \r\nL 181.875452 18.161792 \r\nL 182.468259 18.161792 \r\nL 183.061065 18.532397 \r\nL 183.653871 18.195475 \r\nL 184.839483 18.128098 \r\nL 185.43229 17.959637 \r\nL 186.025096 18.094403 \r\nL 186.617902 18.46502 \r\nL 187.210708 18.195475 \r\nL 187.803514 18.296559 \r\nL 188.396321 18.128098 \r\nL 188.989127 18.39763 \r\nL 189.581933 17.993331 \r\nL 190.767545 18.094403 \r\nL 191.360352 18.027014 \r\nL 192.545964 18.195475 \r\nL 193.13877 21.598404 \r\nL 193.731576 32.177783 \r\nL 194.324382 29.381321 \r\nL 194.917189 21.867936 \r\nL 195.509995 18.599786 \r\nL 196.102801 18.094403 \r\nL 196.695607 18.027014 \r\nL 197.288413 18.161792 \r\nL 198.474026 17.993331 \r\nL 199.066832 17.892247 \r\nL 200.252444 17.959637 \r\nL 204.994894 17.959637 \r\nL 205.5877 18.094403 \r\nL 206.773313 18.027014 \r\nL 207.366119 18.229169 \r\nL 207.958925 28.235788 \r\nL 208.551731 32.413633 \r\nL 209.144537 23.384099 \r\nL 209.737343 18.801942 \r\nL 210.33015 18.195475 \r\nL 210.922956 18.094403 \r\nL 211.515762 17.82487 \r\nL 212.108568 17.82487 \r\nL 212.701374 17.656409 \r\nL 213.294181 17.82487 \r\nL 213.886987 17.690091 \r\nL 215.072599 17.723786 \r\nL 220.407855 18.060708 \r\nL 221.593467 30.560549 \r\nL 222.186274 22.171176 \r\nL 222.77908 18.532397 \r\nL 223.371886 17.858552 \r\nL 223.964692 17.892247 \r\nL 225.743111 17.58902 \r\nL 226.335917 17.723786 \r\nL 227.521529 17.690091 \r\nL 229.892754 17.723786 \r\nL 230.48556 17.892247 \r\nL 231.078366 18.262864 \r\nL 231.671173 18.027014 \r\nL 232.263979 24.091638 \r\nL 232.856785 26.315327 \r\nL 233.449591 20.149631 \r\nL 234.042397 18.094403 \r\nL 234.635204 17.690091 \r\nL 235.22801 17.622714 \r\nL 237.006428 17.723786 \r\nL 238.192041 17.723786 \r\nL 238.784847 17.690091 \r\nL 239.377653 17.791175 \r\nL 239.970459 17.690091 \r\nL 240.563265 17.892247 \r\nL 242.93449 17.723786 \r\nL 243.527296 17.791175 \r\nL 244.120103 17.723786 \r\nL 244.712909 17.959637 \r\nL 245.305715 22.946092 \r\nL 245.898521 36.894706 \r\nL 246.491327 21.800559 \r\nL 247.084134 18.195475 \r\nL 247.67694 17.82487 \r\nL 248.269746 17.656409 \r\nL 249.455358 17.656409 \r\nL 250.048165 17.723786 \r\nL 250.640971 17.58902 \r\nL 251.233777 17.690091 \r\nL 253.012196 17.622714 \r\nL 254.197808 17.690091 \r\nL 255.976226 17.58902 \r\nL 256.569033 17.723786 \r\nL 257.754645 17.757481 \r\nL 258.347451 18.195475 \r\nL 258.940257 22.103787 \r\nL 259.533064 31.706094 \r\nL 260.12587 19.947475 \r\nL 260.718676 17.858552 \r\nL 261.904288 17.791175 \r\nL 273.167606 17.791175 \r\nL 273.760412 19.138864 \r\nL 274.353218 34.23301 \r\nL 274.946025 23.687326 \r\nL 275.538831 19.509481 \r\nL 276.131637 17.993331 \r\nL 276.724443 18.363936 \r\nL 277.317249 18.431325 \r\nL 277.910056 17.555325 \r\nL 279.688474 17.622714 \r\nL 280.28128 17.723786 \r\nL 281.466893 17.58902 \r\nL 282.652505 17.656409 \r\nL 287.394955 17.757481 \r\nL 287.987761 23.923177 \r\nL 288.580567 32.211477 \r\nL 289.173373 20.082254 \r\nL 289.766179 17.622714 \r\nL 290.951792 17.52163 \r\nL 294.508629 17.622714 \r\nL 296.879854 17.58902 \r\nL 297.47266 17.487936 \r\nL 298.658272 17.656409 \r\nL 301.029497 17.622714 \r\nL 301.622303 17.656409 \r\nL 302.215109 17.487936 \r\nL 303.400722 17.723786 \r\nL 303.993528 18.363936 \r\nL 304.586334 32.885322 \r\nL 305.771947 18.566092 \r\nL 306.364753 17.454253 \r\nL 306.957559 17.386864 \r\nL 308.143171 17.555325 \r\nL 309.92159 17.420559 \r\nL 310.514396 17.58902 \r\nL 311.107202 17.487936 \r\nL 312.292815 17.555325 \r\nL 313.478427 17.420559 \r\nL 314.071233 17.555325 \r\nL 314.664039 17.555325 \r\nL 315.256846 17.690091 \r\nL 316.442458 24.731787 \r\nL 317.035264 19.071475 \r\nL 318.220877 17.791175 \r\nL 318.813683 17.420559 \r\nL 320.592101 17.487936 \r\nL 321.184908 17.58902 \r\nL 321.777714 17.52163 \r\nL 322.963326 17.58902 \r\nL 323.556132 17.52163 \r\nL 324.148939 17.58902 \r\nL 325.334551 17.487936 \r\nL 325.927357 17.52163 \r\nL 326.520163 17.791175 \r\nL 327.11297 17.690091 \r\nL 327.705776 17.454253 \r\nL 328.891388 17.723786 \r\nL 329.484194 28.539016 \r\nL 330.077 21.396248 \r\nL 330.669807 19.947475 \r\nL 331.262613 18.195475 \r\nL 331.855419 17.555325 \r\nL 332.448225 17.353169 \r\nL 333.041031 17.319474 \r\nL 333.633838 17.420559 \r\nL 334.226644 17.319474 \r\nL 337.190675 17.386864 \r\nL 340.154706 17.319474 \r\nL 340.747512 17.690091 \r\nL 341.340318 17.454253 \r\nL 341.933124 17.386864 \r\nL 342.525931 23.956859 \r\nL 343.118737 27.359788 \r\nL 343.711543 19.307325 \r\nL 344.304349 17.454253 \r\nL 344.897155 17.319474 \r\nL 346.675574 17.319474 \r\nL 347.861186 17.353169 \r\nL 352.603636 17.420559 \r\nL 353.789248 17.555325 \r\nL 354.382054 17.353169 \r\nL 354.974861 17.487936 \r\nL 356.160473 17.52163 \r\nL 356.753279 17.252097 \r\nL 357.346085 17.353169 \r\nL 357.938892 18.027014 \r\nL 358.531698 23.956859 \r\nL 359.124504 27.225022 \r\nL 359.71731 19.408397 \r\nL 360.310116 17.420559 \r\nL 360.902922 17.285792 \r\nL 361.495729 17.353169 \r\nL 362.681341 17.252097 \r\nL 365.645372 17.319474 \r\nL 367.423791 17.252097 \r\nL 368.016597 17.386864 \r\nL 369.795015 17.386864 \r\nL 370.980628 17.353169 \r\nL 371.573434 17.353169 \r\nL 372.16624 20.85717 \r\nL 372.759046 30.223627 \r\nL 373.351853 19.880098 \r\nL 373.944659 17.487936 \r\nL 375.130271 17.184708 \r\nL 376.315883 17.218403 \r\nL 378.094302 17.218403 \r\nL 378.687108 17.285792 \r\nL 379.279914 17.151013 \r\nL 379.872721 17.319474 \r\nL 380.465527 17.218403 \r\nL 381.058333 17.386864 \r\nL 384.022364 17.252097 \r\nL 385.800783 17.353169 \r\nL 386.393589 17.252097 \r\nL 386.986395 17.285792 \r\nL 387.579201 19.10517 \r\nL 388.172007 31.335477 \r\nL 388.764814 20.082254 \r\nL 389.35762 18.39763 \r\nL 389.950426 17.252097 \r\nL 390.543232 17.151013 \r\nL 391.728844 17.184708 \r\nL 393.507263 17.151013 \r\nL 394.100069 17.218403 \r\nL 394.692875 17.117331 \r\nL 395.878488 17.151013 \r\nL 396.471294 17.117331 \r\nL 397.0641 17.252097 \r\nL 401.213744 17.285792 \r\nL 401.80655 17.858552 \r\nL 402.399356 30.560549 \r\nL 402.992162 21.160397 \r\nL 403.584968 18.161792 \r\nL 404.177775 17.218403 \r\nL 405.363387 17.083636 \r\nL 406.548999 17.117331 \r\nL 413.069867 17.151013 \r\nL 414.25548 17.319474 \r\nL 414.848286 17.723786 \r\nL 415.441092 26.787015 \r\nL 416.033898 20.149631 \r\nL 416.626705 17.959637 \r\nL 416.626705 17.959637 \r\n\" style=\"fill:none;stroke:#1f77b4;stroke-linecap:square;stroke-width:1.5;\"/>\r\n   </g>\r\n   <g id=\"line2d_14\">\r\n    <path clip-path=\"url(#p026d7e57eb)\" d=\"M 61.535795 214.756364 \r\nL 62.128602 211.791441 \r\nL 62.721408 194.406213 \r\nL 63.314214 172.573605 \r\nL 63.90702 158.153296 \r\nL 64.499826 147.236995 \r\nL 65.092633 144.1373 \r\nL 66.278245 148.315145 \r\nL 66.871051 146.293606 \r\nL 67.463857 141.711455 \r\nL 68.056664 138.072688 \r\nL 68.64947 132.547148 \r\nL 69.242276 130.25607 \r\nL 69.835082 129.851764 \r\nL 70.427888 127.830225 \r\nL 71.020695 127.695459 \r\nL 71.613501 124.865302 \r\nL 72.206307 118.800691 \r\nL 72.799113 114.218534 \r\nL 73.984725 108.962533 \r\nL 74.577532 106.536688 \r\nL 75.170338 104.919467 \r\nL 75.763144 102.897921 \r\nL 76.35595 102.224077 \r\nL 78.134369 106.806233 \r\nL 78.727175 110.175455 \r\nL 79.319981 110.849312 \r\nL 79.912787 110.310234 \r\nL 80.505594 108.423467 \r\nL 81.0984 105.458545 \r\nL 81.691206 105.323766 \r\nL 82.284012 106.671467 \r\nL 82.876818 105.323766 \r\nL 83.469625 104.380389 \r\nL 84.655237 98.315777 \r\nL 85.840849 95.081309 \r\nL 86.433656 96.968076 \r\nL 87.026462 101.550232 \r\nL 87.619268 102.628388 \r\nL 88.212074 104.380389 \r\nL 88.80488 101.145921 \r\nL 89.397686 99.124388 \r\nL 90.583299 102.763155 \r\nL 91.176105 106.132389 \r\nL 91.768911 105.188999 \r\nL 92.361717 103.841311 \r\nL 92.954524 98.854842 \r\nL 93.54733 99.663466 \r\nL 94.140136 105.862844 \r\nL 94.732942 107.075766 \r\nL 95.325748 108.827767 \r\nL 95.918555 112.466534 \r\nL 96.511361 115.161924 \r\nL 98.289779 125.539153 \r\nL 98.882586 126.212997 \r\nL 100.068198 115.566235 \r\nL 100.661004 119.878847 \r\nL 101.25381 115.027157 \r\nL 101.846617 113.140378 \r\nL 102.439423 106.536688 \r\nL 103.032229 106.536688 \r\nL 103.625035 96.698543 \r\nL 104.810647 109.63639 \r\nL 105.403454 111.792689 \r\nL 105.99626 116.779157 \r\nL 106.589066 133.355765 \r\nL 107.181872 132.412382 \r\nL 107.774678 130.121303 \r\nL 108.367485 129.17792 \r\nL 109.553097 124.056692 \r\nL 110.145903 117.99208 \r\nL 110.738709 120.956996 \r\nL 111.331516 120.687457 \r\nL 111.924322 112.466534 \r\nL 112.517128 110.714533 \r\nL 113.109934 110.849312 \r\nL 113.70274 115.29669 \r\nL 114.295547 106.941 \r\nL 114.888353 116.913924 \r\nL 115.481159 112.062234 \r\nL 116.073965 115.566235 \r\nL 116.666771 105.728077 \r\nL 117.259578 103.032688 \r\nL 117.852384 108.827767 \r\nL 118.44519 118.261613 \r\nL 119.037996 114.622846 \r\nL 119.630802 120.417925 \r\nL 120.223608 113.409923 \r\nL 120.816415 113.679456 \r\nL 121.409221 113.409923 \r\nL 122.002027 105.188999 \r\nL 122.594833 105.99761 \r\nL 123.187639 131.468998 \r\nL 123.780446 99.124388 \r\nL 124.373252 102.897921 \r\nL 124.966058 104.245622 \r\nL 125.558864 103.841311 \r\nL 126.15167 104.784688 \r\nL 126.744477 101.011154 \r\nL 127.930089 113.275157 \r\nL 128.522895 111.253611 \r\nL 129.115701 105.458545 \r\nL 129.708508 109.097312 \r\nL 130.301314 98.720076 \r\nL 130.89412 99.663466 \r\nL 131.486926 100.067777 \r\nL 132.079732 103.302233 \r\nL 132.672539 104.110844 \r\nL 133.265345 104.110844 \r\nL 133.858151 103.706544 \r\nL 134.450957 101.415466 \r\nL 135.636569 106.132389 \r\nL 136.229376 116.644379 \r\nL 136.822182 111.657923 \r\nL 137.414988 122.304691 \r\nL 138.007794 107.884389 \r\nL 138.6006 108.693 \r\nL 139.193407 121.630841 \r\nL 139.786213 122.978536 \r\nL 140.379019 116.240079 \r\nL 140.971825 115.835768 \r\nL 141.564631 113.275157 \r\nL 142.157438 112.466534 \r\nL 142.750244 104.380389 \r\nL 143.34305 112.870845 \r\nL 143.935856 110.714533 \r\nL 144.528662 113.275157 \r\nL 145.121469 105.458545 \r\nL 145.714275 111.118845 \r\nL 146.307081 109.63639 \r\nL 146.899887 113.54469 \r\nL 147.492693 115.701002 \r\nL 148.0855 114.083768 \r\nL 148.678306 99.528699 \r\nL 149.271112 95.88992 \r\nL 149.863918 103.167466 \r\nL 150.456724 99.932998 \r\nL 151.04953 98.180998 \r\nL 151.642337 108.827767 \r\nL 152.235143 100.472076 \r\nL 152.827949 102.358843 \r\nL 153.420755 91.03823 \r\nL 154.013561 94.811776 \r\nL 154.606368 91.173009 \r\nL 155.79198 96.428998 \r\nL 156.384786 87.669008 \r\nL 156.977592 94.137932 \r\nL 157.570399 95.081309 \r\nL 158.163205 118.126846 \r\nL 158.756011 125.269614 \r\nL 159.348817 104.110844 \r\nL 159.941623 92.655464 \r\nL 160.53443 91.98162 \r\nL 161.127236 87.399463 \r\nL 161.720042 95.755153 \r\nL 162.312848 90.22962 \r\nL 162.905654 94.676997 \r\nL 163.498461 93.598854 \r\nL 164.091267 91.98162 \r\nL 164.684073 88.747152 \r\nL 165.276879 89.555775 \r\nL 165.869685 86.995164 \r\nL 166.462491 88.208086 \r\nL 167.055298 97.911465 \r\nL 167.648104 101.684999 \r\nL 168.24091 113.814235 \r\nL 168.833716 105.323766 \r\nL 169.426522 88.747152 \r\nL 170.019329 84.299774 \r\nL 170.612135 80.93054 \r\nL 171.204941 78.235162 \r\nL 171.797747 79.313318 \r\nL 172.390553 79.582851 \r\nL 172.98336 80.256696 \r\nL 173.576166 81.604384 \r\nL 174.168972 81.604384 \r\nL 174.761778 78.504695 \r\nL 175.354584 79.313318 \r\nL 176.540197 85.782242 \r\nL 177.133003 85.243164 \r\nL 177.725809 91.442542 \r\nL 178.318615 90.499152 \r\nL 178.911421 137.398838 \r\nL 179.504228 131.738531 \r\nL 180.097034 94.407465 \r\nL 180.68984 105.593311 \r\nL 181.282646 75.674551 \r\nL 181.875452 78.77424 \r\nL 182.468259 82.68254 \r\nL 183.061065 85.37793 \r\nL 183.653871 86.995164 \r\nL 184.246677 91.98162 \r\nL 184.839483 91.577308 \r\nL 185.43229 93.059776 \r\nL 186.025096 90.364386 \r\nL 186.617902 90.094853 \r\nL 187.210708 88.342853 \r\nL 187.803514 91.03823 \r\nL 188.396321 89.690542 \r\nL 188.989127 86.590852 \r\nL 189.581933 87.803775 \r\nL 190.174739 100.202544 \r\nL 191.360352 86.860385 \r\nL 191.953158 97.507154 \r\nL 192.545964 93.059776 \r\nL 193.731576 139.555149 \r\nL 194.324382 107.480078 \r\nL 194.917189 91.846854 \r\nL 195.509995 72.709629 \r\nL 196.102801 73.787772 \r\nL 196.695607 71.361927 \r\nL 197.288413 73.922551 \r\nL 197.88122 72.979161 \r\nL 198.474026 74.731162 \r\nL 199.066832 73.113928 \r\nL 199.659638 78.77424 \r\nL 200.252444 72.844395 \r\nL 200.845251 77.965617 \r\nL 201.438057 72.57485 \r\nL 202.030863 77.696084 \r\nL 202.623669 75.539772 \r\nL 203.216475 80.795774 \r\nL 203.809282 74.731162 \r\nL 204.402088 80.121929 \r\nL 204.994894 76.213617 \r\nL 205.5877 81.200085 \r\nL 206.773313 84.030241 \r\nL 207.366119 98.046232 \r\nL 207.958925 152.358224 \r\nL 208.551731 111.927456 \r\nL 209.737343 74.32685 \r\nL 210.33015 73.518239 \r\nL 210.922956 70.822849 \r\nL 211.515762 67.049316 \r\nL 212.108568 71.227161 \r\nL 212.701374 68.66655 \r\nL 213.294181 68.801316 \r\nL 213.886987 69.340394 \r\nL 214.479793 71.766239 \r\nL 215.072599 69.070849 \r\nL 215.665405 70.41855 \r\nL 216.258212 69.609927 \r\nL 216.851018 75.27024 \r\nL 217.443824 74.461617 \r\nL 218.03663 70.822849 \r\nL 218.629436 73.518239 \r\nL 219.222243 73.518239 \r\nL 219.815049 75.539772 \r\nL 220.407855 86.051775 \r\nL 221.000661 119.070223 \r\nL 221.593467 113.275157 \r\nL 222.77908 73.518239 \r\nL 223.371886 69.609927 \r\nL 223.964692 68.66655 \r\nL 224.557498 68.262238 \r\nL 225.150304 69.205628 \r\nL 225.743111 67.72316 \r\nL 226.335917 69.205628 \r\nL 226.928723 70.014239 \r\nL 227.521529 68.936083 \r\nL 228.114335 69.475161 \r\nL 228.707142 69.340394 \r\nL 229.299948 71.766239 \r\nL 229.892754 73.113928 \r\nL 230.48556 81.200085 \r\nL 231.078366 83.895463 \r\nL 231.671173 112.062234 \r\nL 232.263979 129.582225 \r\nL 232.856785 94.946543 \r\nL 233.449591 77.561318 \r\nL 234.042397 67.453628 \r\nL 234.635204 67.453628 \r\nL 235.22801 67.857927 \r\nL 235.820816 68.66655 \r\nL 236.413622 70.283771 \r\nL 237.599235 72.170551 \r\nL 238.192041 72.844395 \r\nL 238.784847 74.057317 \r\nL 239.377653 73.653006 \r\nL 239.970459 71.766239 \r\nL 240.563265 74.731162 \r\nL 241.156072 71.227161 \r\nL 241.748878 74.596395 \r\nL 242.341684 75.405006 \r\nL 242.93449 75.405006 \r\nL 243.527296 74.057317 \r\nL 244.120103 75.809318 \r\nL 244.712909 70.283771 \r\nL 245.305715 157.479452 \r\nL 245.898521 98.989621 \r\nL 246.491327 77.696084 \r\nL 247.084134 65.836394 \r\nL 247.67694 63.545315 \r\nL 248.269746 65.162549 \r\nL 248.862552 65.297316 \r\nL 249.455358 65.701627 \r\nL 250.048165 66.645004 \r\nL 250.640971 66.510238 \r\nL 251.233777 67.588394 \r\nL 251.826583 66.510238 \r\nL 252.419389 68.397005 \r\nL 253.012196 65.027783 \r\nL 253.605002 69.744706 \r\nL 254.197808 69.205628 \r\nL 254.790614 70.283771 \r\nL 255.38342 67.992706 \r\nL 255.976226 70.149005 \r\nL 256.569033 72.844395 \r\nL 257.161839 70.688083 \r\nL 257.754645 70.553317 \r\nL 258.347451 90.22962 \r\nL 258.940257 173.921293 \r\nL 259.533064 96.698543 \r\nL 260.12587 70.41855 \r\nL 260.718676 65.432082 \r\nL 261.311482 67.992706 \r\nL 261.904288 66.91455 \r\nL 262.497095 66.510238 \r\nL 263.089901 68.397005 \r\nL 263.682707 68.127472 \r\nL 264.275513 70.553317 \r\nL 264.868319 71.766239 \r\nL 265.461126 68.936083 \r\nL 266.053932 68.936083 \r\nL 266.646738 72.305317 \r\nL 267.239544 69.070849 \r\nL 267.83235 74.865928 \r\nL 269.017963 70.553317 \r\nL 269.610769 73.518239 \r\nL 270.203575 73.787772 \r\nL 270.796381 70.688083 \r\nL 271.389187 75.000695 \r\nL 271.981994 72.035772 \r\nL 272.5748 79.17854 \r\nL 273.167606 75.809318 \r\nL 273.760412 140.768072 \r\nL 274.353218 133.490532 \r\nL 274.946025 89.825308 \r\nL 275.538831 71.766239 \r\nL 276.131637 74.731162 \r\nL 276.724443 68.531784 \r\nL 277.317249 67.992706 \r\nL 277.910056 69.205628 \r\nL 278.502862 67.184082 \r\nL 279.688474 68.127472 \r\nL 280.28128 67.588394 \r\nL 280.874087 68.801316 \r\nL 281.466893 69.205628 \r\nL 282.059699 69.205628 \r\nL 282.652505 69.070849 \r\nL 283.245311 71.227161 \r\nL 283.838118 70.149005 \r\nL 284.430924 69.340394 \r\nL 285.616536 73.248694 \r\nL 286.209342 70.283771 \r\nL 286.802148 70.149005 \r\nL 287.394955 83.62593 \r\nL 287.987761 136.590227 \r\nL 288.580567 92.251153 \r\nL 289.173373 70.149005 \r\nL 290.358986 65.297316 \r\nL 290.951792 65.297316 \r\nL 291.544598 65.027783 \r\nL 292.137404 65.836394 \r\nL 292.73021 65.432082 \r\nL 293.323017 66.375472 \r\nL 293.915823 66.375472 \r\nL 294.508629 67.857927 \r\nL 295.101435 67.049316 \r\nL 295.694241 66.645004 \r\nL 296.287048 66.645004 \r\nL 296.879854 67.049316 \r\nL 297.47266 68.397005 \r\nL 298.658272 66.105926 \r\nL 299.251079 68.66655 \r\nL 299.843885 66.91455 \r\nL 300.436691 70.553317 \r\nL 301.029497 70.957628 \r\nL 301.622303 71.496694 \r\nL 302.215109 73.383473 \r\nL 302.807916 68.66655 \r\nL 303.400722 76.617928 \r\nL 303.993528 105.99761 \r\nL 304.586334 145.619761 \r\nL 305.17914 96.428998 \r\nL 305.771947 71.766239 \r\nL 306.364753 66.779783 \r\nL 306.957559 65.027783 \r\nL 307.550365 64.353926 \r\nL 308.143171 67.049316 \r\nL 308.735978 65.97116 \r\nL 309.328784 66.645004 \r\nL 309.92159 67.588394 \r\nL 310.514396 68.127472 \r\nL 311.107202 67.857927 \r\nL 311.700009 67.318849 \r\nL 312.292815 67.453628 \r\nL 312.885621 68.531784 \r\nL 313.478427 70.014239 \r\nL 314.071233 68.127472 \r\nL 314.664039 68.66655 \r\nL 315.256846 74.596395 \r\nL 315.849652 145.484995 \r\nL 316.442458 100.067777 \r\nL 317.035264 76.617928 \r\nL 317.62807 72.440083 \r\nL 318.220877 67.318849 \r\nL 318.813683 66.91455 \r\nL 319.406489 68.397005 \r\nL 319.999295 67.318849 \r\nL 320.592101 67.049316 \r\nL 321.184908 68.66655 \r\nL 321.777714 67.992706 \r\nL 322.37052 68.397005 \r\nL 322.963326 67.992706 \r\nL 323.556132 69.609927 \r\nL 324.148939 68.397005 \r\nL 324.741745 69.609927 \r\nL 325.334551 68.262238 \r\nL 325.927357 68.66655 \r\nL 326.520163 68.936083 \r\nL 327.11297 74.192084 \r\nL 327.705776 70.553317 \r\nL 328.298582 70.957628 \r\nL 328.891388 79.448085 \r\nL 329.484194 109.771156 \r\nL 330.077 97.372387 \r\nL 330.669807 76.07885 \r\nL 331.262613 70.553317 \r\nL 331.855419 66.779783 \r\nL 332.448225 66.91455 \r\nL 333.041031 67.453628 \r\nL 333.633838 66.510238 \r\nL 334.226644 66.510238 \r\nL 334.81945 67.992706 \r\nL 335.412256 67.184082 \r\nL 336.005062 67.184082 \r\nL 336.597869 70.41855 \r\nL 337.190675 70.822849 \r\nL 337.783481 69.070849 \r\nL 338.376287 66.91455 \r\nL 339.5619 68.801316 \r\nL 340.154706 71.766239 \r\nL 340.747512 68.936083 \r\nL 341.340318 69.205628 \r\nL 341.933124 74.865928 \r\nL 342.525931 125.269614 \r\nL 343.118737 94.407465 \r\nL 343.711543 75.135473 \r\nL 344.304349 65.162549 \r\nL 344.897155 64.893004 \r\nL 345.489961 64.893004 \r\nL 346.082768 66.645004 \r\nL 346.675574 66.105926 \r\nL 347.26838 66.240705 \r\nL 347.861186 65.836394 \r\nL 348.453992 66.91455 \r\nL 349.639605 68.397005 \r\nL 350.232411 67.992706 \r\nL 350.825217 67.318849 \r\nL 351.418023 67.992706 \r\nL 352.01083 69.340394 \r\nL 352.603636 69.475161 \r\nL 353.196442 72.979161 \r\nL 353.789248 69.879472 \r\nL 354.382054 68.531784 \r\nL 354.974861 70.41855 \r\nL 355.567667 67.992706 \r\nL 356.160473 72.440083 \r\nL 356.753279 71.361927 \r\nL 357.346085 66.91455 \r\nL 358.531698 123.65238 \r\nL 359.124504 90.364386 \r\nL 359.71731 76.887474 \r\nL 360.310116 66.105926 \r\nL 360.902922 65.297316 \r\nL 361.495729 64.21916 \r\nL 362.088535 65.027783 \r\nL 362.681341 64.21916 \r\nL 363.274147 64.758238 \r\nL 363.866953 65.027783 \r\nL 364.45976 67.72316 \r\nL 365.052566 66.105926 \r\nL 365.645372 65.297316 \r\nL 366.238178 66.645004 \r\nL 366.830984 68.66655 \r\nL 367.423791 69.475161 \r\nL 368.016597 67.318849 \r\nL 368.609403 67.049316 \r\nL 369.202209 69.744706 \r\nL 369.795015 68.801316 \r\nL 370.387822 70.014239 \r\nL 370.980628 71.901005 \r\nL 371.573434 69.340394 \r\nL 372.16624 120.148379 \r\nL 372.759046 101.954544 \r\nL 373.351853 79.987163 \r\nL 373.944659 65.97116 \r\nL 374.537465 63.949627 \r\nL 375.130271 64.758238 \r\nL 375.723077 63.410549 \r\nL 376.315883 63.949627 \r\nL 376.90869 64.893004 \r\nL 377.501496 63.680082 \r\nL 378.687108 65.97116 \r\nL 379.279914 65.432082 \r\nL 379.872721 64.353926 \r\nL 380.465527 66.91455 \r\nL 381.058333 65.701627 \r\nL 381.651139 67.184082 \r\nL 382.243945 65.836394 \r\nL 382.836752 65.027783 \r\nL 383.429558 69.744706 \r\nL 384.022364 67.453628 \r\nL 384.61517 68.801316 \r\nL 385.207976 66.91455 \r\nL 385.800783 70.688083 \r\nL 386.393589 68.531784 \r\nL 386.986395 69.475161 \r\nL 387.579201 123.248075 \r\nL 388.764814 73.653006 \r\nL 389.950426 65.432082 \r\nL 391.136038 64.084393 \r\nL 391.728844 64.21916 \r\nL 392.321651 63.949627 \r\nL 392.914457 63.81486 \r\nL 393.507263 64.084393 \r\nL 394.100069 63.949627 \r\nL 394.692875 65.297316 \r\nL 395.285682 64.353926 \r\nL 395.878488 65.162549 \r\nL 396.471294 63.81486 \r\nL 397.0641 66.375472 \r\nL 397.656906 67.72316 \r\nL 398.249713 67.453628 \r\nL 398.842519 67.049316 \r\nL 399.435325 67.72316 \r\nL 400.028131 66.240705 \r\nL 400.620937 68.801316 \r\nL 401.213744 68.66655 \r\nL 401.80655 113.54469 \r\nL 402.992162 89.28623 \r\nL 403.584968 69.879472 \r\nL 404.177775 64.623471 \r\nL 404.770581 64.21916 \r\nL 405.363387 64.488705 \r\nL 405.956193 64.084393 \r\nL 406.548999 64.084393 \r\nL 407.141805 64.21916 \r\nL 407.734612 64.623471 \r\nL 408.327418 65.162549 \r\nL 408.920224 64.353926 \r\nL 409.51303 63.949627 \r\nL 410.105836 64.893004 \r\nL 410.698643 64.893004 \r\nL 411.291449 65.297316 \r\nL 411.884255 64.893004 \r\nL 412.477061 66.375472 \r\nL 413.069867 65.432082 \r\nL 413.662674 65.836394 \r\nL 414.25548 68.127472 \r\nL 414.848286 101.550232 \r\nL 415.441092 120.148379 \r\nL 416.033898 82.817319 \r\nL 416.626705 66.510238 \r\nL 416.626705 66.510238 \r\n\" style=\"fill:none;stroke:#ff7f0e;stroke-linecap:square;stroke-width:1.5;\"/>\r\n   </g>\r\n   <g id=\"patch_3\">\r\n    <path d=\"M 43.78125 224.64 \r\nL 43.78125 7.2 \r\n\" style=\"fill:none;stroke:#000000;stroke-linecap:square;stroke-linejoin:miter;stroke-width:0.8;\"/>\r\n   </g>\r\n   <g id=\"patch_4\">\r\n    <path d=\"M 434.38125 224.64 \r\nL 434.38125 7.2 \r\n\" style=\"fill:none;stroke:#000000;stroke-linecap:square;stroke-linejoin:miter;stroke-width:0.8;\"/>\r\n   </g>\r\n   <g id=\"patch_5\">\r\n    <path d=\"M 43.78125 224.64 \r\nL 434.38125 224.64 \r\n\" style=\"fill:none;stroke:#000000;stroke-linecap:square;stroke-linejoin:miter;stroke-width:0.8;\"/>\r\n   </g>\r\n   <g id=\"patch_6\">\r\n    <path d=\"M 43.78125 7.2 \r\nL 434.38125 7.2 \r\n\" style=\"fill:none;stroke:#000000;stroke-linecap:square;stroke-linejoin:miter;stroke-width:0.8;\"/>\r\n   </g>\r\n   <g id=\"legend_1\">\r\n    <g id=\"patch_7\">\r\n     <path d=\"M 50.78125 44.55625 \r\nL 106.05625 44.55625 \r\nQ 108.05625 44.55625 108.05625 42.55625 \r\nL 108.05625 14.2 \r\nQ 108.05625 12.2 106.05625 12.2 \r\nL 50.78125 12.2 \r\nQ 48.78125 12.2 48.78125 14.2 \r\nL 48.78125 42.55625 \r\nQ 48.78125 44.55625 50.78125 44.55625 \r\nz\r\n\" style=\"fill:#ffffff;opacity:0.8;stroke:#cccccc;stroke-linejoin:miter;\"/>\r\n    </g>\r\n    <g id=\"line2d_15\">\r\n     <path d=\"M 52.78125 20.298438 \r\nL 72.78125 20.298438 \r\n\" style=\"fill:none;stroke:#1f77b4;stroke-linecap:square;stroke-width:1.5;\"/>\r\n    </g>\r\n    <g id=\"line2d_16\"/>\r\n    <g id=\"text_15\">\r\n     <!-- train -->\r\n     <g transform=\"translate(80.78125 23.798438)scale(0.1 -0.1)\">\r\n      <defs>\r\n       <path d=\"M 18.3125 70.21875 \r\nL 18.3125 54.6875 \r\nL 36.8125 54.6875 \r\nL 36.8125 47.703125 \r\nL 18.3125 47.703125 \r\nL 18.3125 18.015625 \r\nQ 18.3125 11.328125 20.140625 9.421875 \r\nQ 21.96875 7.515625 27.59375 7.515625 \r\nL 36.8125 7.515625 \r\nL 36.8125 0 \r\nL 27.59375 0 \r\nQ 17.1875 0 13.234375 3.875 \r\nQ 9.28125 7.765625 9.28125 18.015625 \r\nL 9.28125 47.703125 \r\nL 2.6875 47.703125 \r\nL 2.6875 54.6875 \r\nL 9.28125 54.6875 \r\nL 9.28125 70.21875 \r\nz\r\n\" id=\"DejaVuSans-116\"/>\r\n       <path d=\"M 9.421875 54.6875 \r\nL 18.40625 54.6875 \r\nL 18.40625 0 \r\nL 9.421875 0 \r\nz\r\nM 9.421875 75.984375 \r\nL 18.40625 75.984375 \r\nL 18.40625 64.59375 \r\nL 9.421875 64.59375 \r\nz\r\n\" id=\"DejaVuSans-105\"/>\r\n       <path d=\"M 54.890625 33.015625 \r\nL 54.890625 0 \r\nL 45.90625 0 \r\nL 45.90625 32.71875 \r\nQ 45.90625 40.484375 42.875 44.328125 \r\nQ 39.84375 48.1875 33.796875 48.1875 \r\nQ 26.515625 48.1875 22.3125 43.546875 \r\nQ 18.109375 38.921875 18.109375 30.90625 \r\nL 18.109375 0 \r\nL 9.078125 0 \r\nL 9.078125 54.6875 \r\nL 18.109375 54.6875 \r\nL 18.109375 46.1875 \r\nQ 21.34375 51.125 25.703125 53.5625 \r\nQ 30.078125 56 35.796875 56 \r\nQ 45.21875 56 50.046875 50.171875 \r\nQ 54.890625 44.34375 54.890625 33.015625 \r\nz\r\n\" id=\"DejaVuSans-110\"/>\r\n      </defs>\r\n      <use xlink:href=\"#DejaVuSans-116\"/>\r\n      <use x=\"39.208984\" xlink:href=\"#DejaVuSans-114\"/>\r\n      <use x=\"80.322266\" xlink:href=\"#DejaVuSans-97\"/>\r\n      <use x=\"141.601562\" xlink:href=\"#DejaVuSans-105\"/>\r\n      <use x=\"169.384766\" xlink:href=\"#DejaVuSans-110\"/>\r\n     </g>\r\n    </g>\r\n    <g id=\"line2d_17\">\r\n     <path d=\"M 52.78125 34.976562 \r\nL 72.78125 34.976562 \r\n\" style=\"fill:none;stroke:#ff7f0e;stroke-linecap:square;stroke-width:1.5;\"/>\r\n    </g>\r\n    <g id=\"line2d_18\"/>\r\n    <g id=\"text_16\">\r\n     <!-- test -->\r\n     <g transform=\"translate(80.78125 38.476562)scale(0.1 -0.1)\">\r\n      <defs>\r\n       <path d=\"M 44.28125 53.078125 \r\nL 44.28125 44.578125 \r\nQ 40.484375 46.53125 36.375 47.5 \r\nQ 32.28125 48.484375 27.875 48.484375 \r\nQ 21.1875 48.484375 17.84375 46.4375 \r\nQ 14.5 44.390625 14.5 40.28125 \r\nQ 14.5 37.15625 16.890625 35.375 \r\nQ 19.28125 33.59375 26.515625 31.984375 \r\nL 29.59375 31.296875 \r\nQ 39.15625 29.25 43.1875 25.515625 \r\nQ 47.21875 21.78125 47.21875 15.09375 \r\nQ 47.21875 7.46875 41.1875 3.015625 \r\nQ 35.15625 -1.421875 24.609375 -1.421875 \r\nQ 20.21875 -1.421875 15.453125 -0.5625 \r\nQ 10.6875 0.296875 5.421875 2 \r\nL 5.421875 11.28125 \r\nQ 10.40625 8.6875 15.234375 7.390625 \r\nQ 20.0625 6.109375 24.8125 6.109375 \r\nQ 31.15625 6.109375 34.5625 8.28125 \r\nQ 37.984375 10.453125 37.984375 14.40625 \r\nQ 37.984375 18.0625 35.515625 20.015625 \r\nQ 33.0625 21.96875 24.703125 23.78125 \r\nL 21.578125 24.515625 \r\nQ 13.234375 26.265625 9.515625 29.90625 \r\nQ 5.8125 33.546875 5.8125 39.890625 \r\nQ 5.8125 47.609375 11.28125 51.796875 \r\nQ 16.75 56 26.8125 56 \r\nQ 31.78125 56 36.171875 55.265625 \r\nQ 40.578125 54.546875 44.28125 53.078125 \r\nz\r\n\" id=\"DejaVuSans-115\"/>\r\n      </defs>\r\n      <use xlink:href=\"#DejaVuSans-116\"/>\r\n      <use x=\"39.208984\" xlink:href=\"#DejaVuSans-101\"/>\r\n      <use x=\"100.732422\" xlink:href=\"#DejaVuSans-115\"/>\r\n      <use x=\"152.832031\" xlink:href=\"#DejaVuSans-116\"/>\r\n     </g>\r\n    </g>\r\n   </g>\r\n  </g>\r\n </g>\r\n <defs>\r\n  <clipPath id=\"p026d7e57eb\">\r\n   <rect height=\"217.44\" width=\"390.6\" x=\"43.78125\" y=\"7.2\"/>\r\n  </clipPath>\r\n </defs>\r\n</svg>\r\n",
      "image/png": "[encoded data removed]"
     },
     "metadata": {
      "needs_background": "light"
     }
    }
   ],
   "source": [
    "plt.figure(figsize=(7, 4))\n",
    "plt.plot(history.history['accuracy'])\n",
    "plt.plot(history.history['val_accuracy'])\n",
    "plt.ylabel('accuracy')\n",
    "plt.xlabel('epoch')\n",
    "plt.legend(['train', 'test'], loc='upper left')"
   ]
  },
  {
   "cell_type": "code",
   "execution_count": 16,
   "metadata": {},
   "outputs": [
    {
     "output_type": "stream",
     "name": "stdout",
     "text": [
      "              precision    recall  f1-score      support\n0              0.384615  0.555556  0.454545    27.000000\n1              0.529412  0.818182  0.642857    11.000000\n2              0.500000  0.700000  0.583333    10.000000\n3              0.888889  0.615385  0.727273    13.000000\n4              1.000000  0.666667  0.800000     6.000000\n...                 ...       ...       ...          ...\ny              0.750000  0.666667  0.705882     9.000000\nz              1.000000  0.166667  0.285714     6.000000\naccuracy       0.761843  0.761843  0.761843     0.761843\nmacro avg      0.711957  0.663055  0.663857  1541.000000\nweighted avg   0.783891  0.761843  0.760708  1541.000000\n\n[65 rows x 4 columns]\n"
     ]
    }
   ],
   "source": [
    "y_pred = model.predict(testData)\n",
    "\n",
    "predicted_categories = tf.argmax(y_pred, axis=1)\n",
    "\n",
    "true_categories = tf.concat([y for x, y in testData], axis=0)\n",
    "true_categories = tf.argmax(true_categories, axis=1)\n",
    "\n",
    "report = classification_report(true_categories, predicted_categories, target_names= class_names, output_dict=True)\n",
    "print(pd.DataFrame(report).transpose())"
   ]
  },
  {
   "cell_type": "code",
   "execution_count": 17,
   "metadata": {},
   "outputs": [
    {
     "output_type": "stream",
     "name": "stdout",
     "text": [
      "Accuracy: 0.761843\nPrecision: 0.711957\nRecall: 0.663055\nF1 score: 0.663857\n"
     ]
    }
   ],
   "source": [
    "from sklearn.metrics import accuracy_score\n",
    "from sklearn.metrics import precision_score\n",
    "from sklearn.metrics import recall_score\n",
    "from sklearn.metrics import f1_score\n",
    "\n",
    "# accuracy: (tp + tn) / (p + n)\n",
    "accuracy = accuracy_score(true_categories, predicted_categories)\n",
    "print('Accuracy: %f' % accuracy)\n",
    "# precision tp / (tp + fp)\n",
    "precision = precision_score(true_categories, predicted_categories, average='macro')\n",
    "print('Precision: %f' % precision)\n",
    "# recall: tp / (tp + fn)\n",
    "recall = recall_score(true_categories, predicted_categories, average='macro')\n",
    "print('Recall: %f' % recall)\n",
    "# f1: 2 tp / (2 tp + fp + fn)\n",
    "f1 = f1_score(true_categories, predicted_categories, average='macro')\n",
    "print('F1 score: %f' % f1)"
   ]
  },
  {
   "cell_type": "code",
   "execution_count": 14,
   "metadata": {},
   "outputs": [
    {
     "output_type": "execute_result",
     "data": {
      "text/plain": [
       "(128, 62)"
      ]
     },
     "metadata": {},
     "execution_count": 14
    }
   ],
   "source": [
    "from keras.models import Model\n",
    "gap_weights = model.layers[-1].get_weights()[0]\n",
    "gap_weights.shape\n"
   ]
  },
  {
   "cell_type": "code",
   "execution_count": 14,
   "metadata": {},
   "outputs": [],
   "source": [
    "cam_model  = Model(inputs=model.input,outputs=(model.layers[-3].output,model.layers[-1].output))"
   ]
  },
  {
   "cell_type": "code",
   "execution_count": 15,
   "metadata": {},
   "outputs": [
    {
     "output_type": "stream",
     "name": "stdout",
     "text": [
      "Model: \"model\"\n_________________________________________________________________\nLayer (type)                 Output Shape              Param #   \n=================================================================\nconv2d_input (InputLayer)    [(None, 32, 32, 1)]       0         \n_________________________________________________________________\nconv2d (Conv2D)              (None, 26, 26, 64)        3136      \n_________________________________________________________________\nbatch_normalization (BatchNo (None, 26, 26, 64)        256       \n_________________________________________________________________\nactivation (Activation)      (None, 26, 26, 64)        0         \n_________________________________________________________________\nmax_pooling2d (MaxPooling2D) (None, 9, 9, 64)          0         \n_________________________________________________________________\nconv2d_1 (Conv2D)            (None, 7, 7, 128)         73728     \n_________________________________________________________________\nbatch_normalization_1 (Batch (None, 7, 7, 128)         512       \n_________________________________________________________________\nactivation_1 (Activation)    (None, 7, 7, 128)         0         \n_________________________________________________________________\nmax_pooling2d_1 (MaxPooling2 (None, 4, 4, 128)         0         \n_________________________________________________________________\nglobal_average_pooling2d (Gl (None, 128)               0         \n_________________________________________________________________\ndropout (Dropout)            (None, 128)               0         \n_________________________________________________________________\ndense (Dense)                (None, 62)                7998      \n=================================================================\nTotal params: 85,630\nTrainable params: 85,246\nNon-trainable params: 384\n_________________________________________________________________\n"
     ]
    }
   ],
   "source": [
    "cam_model.summary()"
   ]
  },
  {
   "cell_type": "code",
   "execution_count": 16,
   "metadata": {},
   "outputs": [
    {
     "output_type": "execute_result",
     "data": {
      "text/plain": [
       "(1541, 128)"
      ]
     },
     "metadata": {},
     "execution_count": 16
    }
   ],
   "source": [
    "features,results = cam_model.predict(testData)\n",
    "features.shape"
   ]
  },
  {
   "cell_type": "code",
   "execution_count": 25,
   "metadata": {},
   "outputs": [
    {
     "output_type": "error",
     "ename": "NameError",
     "evalue": "name 'sp' is not defined",
     "traceback": [
      "\u001b[1;31m---------------------------------------------------------------------------\u001b[0m",
      "\u001b[1;31mNameError\u001b[0m                                 Traceback (most recent call last)",
      "\u001b[1;32m<ipython-input-25-32105d763e0f>\u001b[0m in \u001b[0;36m<module>\u001b[1;34m\u001b[0m\n\u001b[0;32m      4\u001b[0m     \u001b[0mwidth_roomout\u001b[0m \u001b[1;33m=\u001b[0m \u001b[0mimage_batch\u001b[0m\u001b[1;33m.\u001b[0m\u001b[0mshape\u001b[0m\u001b[1;33m[\u001b[0m\u001b[1;36m2\u001b[0m\u001b[1;33m]\u001b[0m \u001b[1;33m/\u001b[0m \u001b[0mfeatures_for_one_img\u001b[0m\u001b[1;33m[\u001b[0m\u001b[1;36m1\u001b[0m\u001b[1;33m]\u001b[0m\u001b[1;33m\u001b[0m\u001b[1;33m\u001b[0m\u001b[0m\n\u001b[0;32m      5\u001b[0m \u001b[1;33m\u001b[0m\u001b[0m\n\u001b[1;32m----> 6\u001b[1;33m     \u001b[0mcam_features\u001b[0m \u001b[1;33m=\u001b[0m \u001b[0msp\u001b[0m\u001b[1;33m.\u001b[0m\u001b[0mndimage\u001b[0m\u001b[1;33m.\u001b[0m\u001b[0mzoom\u001b[0m\u001b[1;33m(\u001b[0m\u001b[0mfeatures_for_one_img\u001b[0m\u001b[1;33m,\u001b[0m \u001b[1;33m(\u001b[0m\u001b[0mheight_roomout\u001b[0m\u001b[1;33m,\u001b[0m \u001b[0mwidth_roomout\u001b[0m\u001b[1;33m)\u001b[0m\u001b[1;33m,\u001b[0m \u001b[0morder\u001b[0m\u001b[1;33m=\u001b[0m\u001b[1;36m2\u001b[0m\u001b[1;33m)\u001b[0m\u001b[1;33m\u001b[0m\u001b[1;33m\u001b[0m\u001b[0m\n\u001b[0m\u001b[0;32m      7\u001b[0m     \u001b[0mpred\u001b[0m\u001b[1;33m=\u001b[0m \u001b[0mnp\u001b[0m\u001b[1;33m.\u001b[0m\u001b[0margmax\u001b[0m\u001b[1;33m(\u001b[0m\u001b[0mresults\u001b[0m\u001b[1;33m[\u001b[0m\u001b[0midx\u001b[0m\u001b[1;33m]\u001b[0m\u001b[1;33m)\u001b[0m\u001b[1;33m\u001b[0m\u001b[1;33m\u001b[0m\u001b[0m\n\u001b[0;32m      8\u001b[0m \u001b[1;33m\u001b[0m\u001b[0m\n",
      "\u001b[1;31mNameError\u001b[0m: name 'sp' is not defined"
     ]
    }
   ],
   "source": [
    "for idx in range(10):\n",
    "    features_for_one_img = features[idx,:]\n",
    "    height_roomout = image_batch.shape[1] / features_for_one_img.shape[0]\n",
    "    width_roomout = image_batch.shape[2] / features_for_one_img[1]\n",
    "\n",
    "    cam_features = sp.ndimage.zoom(features_for_one_img, (height_roomout, width_roomout), order=2)\n",
    "    pred= np.argmax(results[idx])\n",
    "\n",
    "    plt.figure(facecolor='white')\n",
    "    cam_weights = gap_weights[:, pred]\n",
    "    cam_output = np.dot(cam_features, cam_weights)\n",
    "\n",
    "    buf = 'Predicted Class = '+str(pred)+ ', Probability = ' + str(results[idx][pred])\n",
    "    plt.xlabel(buf)\n",
    "    plt.imshow(np.squeeze(X_test[idx], -1), alpha=0.5)\n",
    "    plt.imshow(cam_output, cmap='jet', alpha=0.5)"
   ]
  },
  {
   "cell_type": "markdown",
   "metadata": {},
   "source": [
    "---\n",
    "---"
   ]
  },
  {
   "cell_type": "markdown",
   "metadata": {},
   "source": [
    "OCR\n",
    "---\n",
    "+ Resim üzerindeki karakterlerin algılanması <br>\n",
    "    + otsu_threshold <br>\n",
    "\n",
    "    <img src=\"https://www.learnopencv.com/wp-content/uploads/2020/06/processed_img-1-1024x685.jpg\" width=\"350\" height=\"300\" /> -> <img src=\"https://www.learnopencv.com/wp-content/uploads/2020/06/otsu_result-1024x685.png\" width=\"350\" height=\"300\" />\n",
    "    + contours <br>\n",
    "     <img src=\"https://i.stack.imgur.com/x3SV0.png\" width=\"200\" height=\"100\" />\n",
    "\n",
    "    + dilate <br>\n",
    "    <img src=\"https://opencv-python-tutroals.readthedocs.io/en/latest/_images/j.png\" width=\"100\" height=\"100\" /> -> <img src=\"https://opencv-python-tutroals.readthedocs.io/en/latest/_images/dilation.png\" width=\"100\" height=\"100\" />\n",
    "\n",
    "    + padding <br>\n",
    "    <img src=\"https://i.imgur.com/UCNn9gd.png\" width=\"14\" height=\"54\"/> -> <img src=\"https://i.imgur.com/56k5F8i.png\" width=\"64\" height=\"64\" />\n",
    "+ Algılanan karakterlerin modelde tahmin edilmesi"
   ]
  },
  {
   "cell_type": "code",
   "execution_count": null,
   "metadata": {},
   "outputs": [],
   "source": [
    "# load image\n",
    "img = cv2.imread(\"test2.jpg\")\n",
    "\n",
    "# convert to gray\n",
    "gray = cv2.cvtColor(img, cv2.COLOR_BGR2GRAY)\n",
    "\n",
    "ret, thresh1 = cv2.threshold(gray, 0, 255, cv2.THRESH_OTSU | cv2.THRESH_BINARY_INV) \n",
    "\n",
    "# Specify structure shape and kernel size.  \n",
    "rect_kernel = cv2.getStructuringElement(cv2.MORPH_RECT, (1, 8)) \n",
    "  \n",
    "# Appplying dilation on the threshold image \n",
    "dilation = cv2.dilate(thresh1, rect_kernel, iterations = 1) \n",
    "  \n",
    "# Finding contours \n",
    "contours, hierarchy = cv2.findContours(dilation, cv2.RETR_EXTERNAL, cv2.CHAIN_APPROX_NONE) \n",
    "\n",
    "contours = sort_contours(contours, method=\"left-to-right\")[0]\n",
    "\n",
    "# Creating a copy of image \n",
    "im2 = gray.copy() \n",
    "\n",
    "text= []\n",
    "  \n",
    "# Looping through the identified contours \n",
    "for cnt in contours: \n",
    "    x, y, w, h = cv2.boundingRect(cnt) \n",
    "\n",
    "    # Drawing a rectangle on copied image \n",
    "    rect = cv2.rectangle(im2, (x, y), (x + w, y + h), (0, 255, 0), 1) \n",
    "    \n",
    "    # Cropping the text block for giving input to OCR \n",
    "    cropped = gray[y:y + h, x:x + w] \n",
    "    \n",
    "    thresh = cv2.threshold(cropped, 0, 255, cv2.THRESH_BINARY_INV|cv2.THRESH_OTSU)[1]\n",
    "    (tH, tW) = thresh.shape\n",
    "\n",
    "    # if the width is greater than the height, resize along the\n",
    "    # # width dimension\n",
    "    if tW > tH:\n",
    "        thresh = imutils.resize(thresh, width=32)\n",
    "    # otherwise, resize along the height\n",
    "    else:\n",
    "\t    thresh = imutils.resize(thresh, height=32)\n",
    "\n",
    "    # re-grab the image dimensions (now that its been resized)\n",
    "    # and then determine how much we need to pad the width and\n",
    "    # height such that our image will be 32x32\n",
    "    (tH, tW) = thresh.shape\n",
    "    dX = int(max(0, 32 - tW) / 2.0)\n",
    "    dY = int(max(0, 32 - tH) / 2.0)    \n",
    "    \n",
    "    # pad the image and force 32x32 dimensions\n",
    "    padded = cv2.copyMakeBorder(thresh, top=dY, bottom=dY, left=dX, right=dX, borderType=cv2.BORDER_CONSTANT, value=(0, 0, 0))\n",
    "    padded = cv2.resize(padded, (32, 32))\n",
    "    \n",
    "    # prepare the padded image for classification via our\n",
    "    # handwriting OCR model\n",
    "    padded = padded.astype(\"float32\") / 255.0\n",
    "    padded = np.expand_dims(padded, axis=-1)\n",
    "\n",
    "    # update our list of characters that will be OCR'd\n",
    "    text.append((padded, (x, y, w, h)))\n",
    "    plt.imshow(padded, cmap='gray')\n",
    "    plt.show()\n"
   ]
  },
  {
   "cell_type": "code",
   "execution_count": null,
   "metadata": {},
   "outputs": [],
   "source": [
    "# extract the bounding box locations and padded characters\n",
    "boxes = [b[1] for b in text]\n",
    "chars = np.array([c[0] for c in text], dtype=\"float32\")\n",
    "\n",
    "# OCR the characters using our handwriting recognition model\n",
    "preds = model.predict(chars)"
   ]
  },
  {
   "cell_type": "code",
   "execution_count": null,
   "metadata": {},
   "outputs": [],
   "source": [
    "result = []\n",
    "for (pred, (x, y, w, h)) in zip(preds, boxes): \t\n",
    "\t# find the index of the label with the largest corresponding\n",
    "\t# probability, then extract the probability and label\n",
    "\ti = np.argmax(pred)\n",
    "\tprob = pred[i]\n",
    "\tlabel = class_names[i]\n",
    "\n",
    "\t# draw the prediction on the image\n",
    "\tprint(f\"Predict >> {label} - {prob * 100:.2f}%\")\n",
    "\tresult.append(label)\n",
    "\n",
    "# show the image\n",
    "plt.imshow(img)\n",
    "plt.show()"
   ]
  },
  {
   "cell_type": "code",
   "execution_count": null,
   "metadata": {},
   "outputs": [],
   "source": [
    "for i in result:\n",
    "    print(i, end='')"
   ]
  },
  {
   "cell_type": "code",
   "execution_count": null,
   "metadata": {},
   "outputs": [],
   "source": []
  }
 ],
 "metadata": {
  "kernelspec": {
   "display_name": "Python 3",
   "language": "python",
   "name": "python3"
  },
  "language_info": {
   "codemirror_mode": {
    "name": "ipython",
    "version": 3
   },
   "file_extension": ".py",
   "mimetype": "text/x-python",
   "name": "python",
   "nbconvert_exporter": "python",
   "pygments_lexer": "ipython3",
   "version": "3.8.5-final"
  }
 },
 "nbformat": 4,
 "nbformat_minor": 2
}